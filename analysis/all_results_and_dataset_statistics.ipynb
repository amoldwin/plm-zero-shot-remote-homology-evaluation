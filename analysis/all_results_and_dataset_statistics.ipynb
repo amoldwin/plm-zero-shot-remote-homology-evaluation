{
 "cells": [
  {
   "cell_type": "code",
   "execution_count": 1,
   "metadata": {},
   "outputs": [],
   "source": [
    "import sys\n",
    "home_dir = \"../\"\n",
    "sys.path.append(home_dir)\n",
    "\n",
    "import pandas as pd"
   ]
  },
  {
   "cell_type": "markdown",
   "metadata": {},
   "source": [
    "### About SCOPe"
   ]
  },
  {
   "cell_type": "code",
   "execution_count": 2,
   "metadata": {},
   "outputs": [
    {
     "name": "stdout",
     "output_type": "stream",
     "text": [
      "th\tn_datapoints\tn_unique_folds\tn_unique_superfamilies\tn_unique_families\n",
      "10\t6784\t1220\t1985\t3999\n",
      "20\t7547\t1229\t1995\t4116\n",
      "30\t10370\t1229\t1997\t4310\n",
      "40\t14280\t1230\t1998\t4521\n",
      "70\t23349\t1230\t1998\t4791\n",
      "95\t33771\t1230\t1998\t4826\n"
     ]
    }
   ],
   "source": [
    "# SCOPe datasets after filtering at different thresholds\n",
    "print(f\"th\\tn_datapoints\\tn_unique_folds\\tn_unique_superfamilies\\tn_unique_families\")\n",
    "for th in [10, 20, 30, 40, 70, 95]:\n",
    "    data_df = pd.read_csv(home_dir+\"data/SCOPe/processed_at_th/th_\"+str(th)+\".tsv\", sep=\"\\t\")\n",
    "    total = data_df.shape[0]\n",
    "    n_folds = data_df[\"fold\"].unique().shape[0]\n",
    "    n_superfamilies = data_df[\"superfamily\"].unique().shape[0]\n",
    "    n_families = data_df[\"family\"].unique().shape[0]\n",
    "    print(f\"{th}\\t{total}\\t{n_folds}\\t{n_superfamilies}\\t{n_families}\")"
   ]
  },
  {
   "cell_type": "code",
   "execution_count": 3,
   "metadata": {},
   "outputs": [
    {
     "data": {
      "text/html": [
       "<div>\n",
       "<style scoped>\n",
       "    .dataframe tbody tr th:only-of-type {\n",
       "        vertical-align: middle;\n",
       "    }\n",
       "\n",
       "    .dataframe tbody tr th {\n",
       "        vertical-align: top;\n",
       "    }\n",
       "\n",
       "    .dataframe thead th {\n",
       "        text-align: right;\n",
       "    }\n",
       "</style>\n",
       "<table border=\"1\" class=\"dataframe\">\n",
       "  <thead>\n",
       "    <tr style=\"text-align: right;\">\n",
       "      <th></th>\n",
       "      <th>cls_label</th>\n",
       "      <th>fold</th>\n",
       "      <th>superfamily</th>\n",
       "      <th>family</th>\n",
       "    </tr>\n",
       "  </thead>\n",
       "  <tbody>\n",
       "    <tr>\n",
       "      <th>0</th>\n",
       "      <td>a</td>\n",
       "      <td>282</td>\n",
       "      <td>510</td>\n",
       "      <td>896</td>\n",
       "    </tr>\n",
       "    <tr>\n",
       "      <th>1</th>\n",
       "      <td>b</td>\n",
       "      <td>173</td>\n",
       "      <td>334</td>\n",
       "      <td>747</td>\n",
       "    </tr>\n",
       "    <tr>\n",
       "      <th>2</th>\n",
       "      <td>c</td>\n",
       "      <td>140</td>\n",
       "      <td>237</td>\n",
       "      <td>749</td>\n",
       "    </tr>\n",
       "    <tr>\n",
       "      <th>3</th>\n",
       "      <td>d</td>\n",
       "      <td>392</td>\n",
       "      <td>570</td>\n",
       "      <td>1109</td>\n",
       "    </tr>\n",
       "    <tr>\n",
       "      <th>4</th>\n",
       "      <td>e</td>\n",
       "      <td>70</td>\n",
       "      <td>70</td>\n",
       "      <td>100</td>\n",
       "    </tr>\n",
       "    <tr>\n",
       "      <th>5</th>\n",
       "      <td>f</td>\n",
       "      <td>66</td>\n",
       "      <td>126</td>\n",
       "      <td>160</td>\n",
       "    </tr>\n",
       "    <tr>\n",
       "      <th>6</th>\n",
       "      <td>g</td>\n",
       "      <td>97</td>\n",
       "      <td>138</td>\n",
       "      <td>238</td>\n",
       "    </tr>\n",
       "  </tbody>\n",
       "</table>\n",
       "</div>"
      ],
      "text/plain": [
       "  cls_label  fold  superfamily  family\n",
       "0         a   282          510     896\n",
       "1         b   173          334     747\n",
       "2         c   140          237     749\n",
       "3         d   392          570    1109\n",
       "4         e    70           70     100\n",
       "5         f    66          126     160\n",
       "6         g    97          138     238"
      ]
     },
     "execution_count": 3,
     "metadata": {},
     "output_type": "execute_result"
    }
   ],
   "source": [
    "# SCOPe class specific data distribution at th\n",
    "# for th in [10, 20, 30, 40, 70, 95]:\n",
    "th = 10    \n",
    "df = pd.read_csv(home_dir+\"data/SCOPe/processed_at_th/th_\"+str(th)+\".tsv\", sep=\"\\t\")\n",
    "df[[\"cls_label\", \"fold\", \"superfamily\", \"family\"]].groupby(by=\"cls_label\").nunique().reset_index()"
   ]
  },
  {
   "cell_type": "markdown",
   "metadata": {},
   "source": [
    "### About SCOP"
   ]
  },
  {
   "cell_type": "code",
   "execution_count": 5,
   "metadata": {},
   "outputs": [
    {
     "name": "stdout",
     "output_type": "stream",
     "text": [
      "th\tn_datapoints\tn_unique_folds\tn_unique_superfamilies\tn_unique_families\n",
      "10\t9843\t1488\t2589\t5122\n",
      "20\t10073\t1488\t2589\t5127\n",
      "30\t11852\t1488\t2589\t5131\n",
      "40\t15481\t1488\t2589\t5131\n",
      "70\t23059\t1489\t2589\t5135\n",
      "95\t27563\t1489\t2589\t5135\n"
     ]
    }
   ],
   "source": [
    "# SCOP datasets after filtering at different thresholds\n",
    "print(f\"th\\tn_datapoints\\tn_unique_folds\\tn_unique_superfamilies\\tn_unique_families\")\n",
    "for th in [10, 20, 30, 40, 70, 95]:\n",
    "    # th=30\n",
    "    data_df = pd.read_csv(home_dir+\"data/SCOP/processed_at_th/th_\"+str(th)+\".tsv\", sep=\"\\t\")\n",
    "    total = data_df.shape[0]\n",
    "    n_folds = data_df[\"CF\"].unique().shape[0]\n",
    "    n_superfamilies = data_df[\"SF\"].unique().shape[0]\n",
    "    n_families = data_df[\"FA\"].unique().shape[0]\n",
    "    print(f\"{th}\\t{total}\\t{n_folds}\\t{n_superfamilies}\\t{n_families}\")\n",
    "    # break"
   ]
  },
  {
   "cell_type": "code",
   "execution_count": 6,
   "metadata": {},
   "outputs": [
    {
     "data": {
      "text/html": [
       "<div>\n",
       "<style scoped>\n",
       "    .dataframe tbody tr th:only-of-type {\n",
       "        vertical-align: middle;\n",
       "    }\n",
       "\n",
       "    .dataframe tbody tr th {\n",
       "        vertical-align: top;\n",
       "    }\n",
       "\n",
       "    .dataframe thead th {\n",
       "        text-align: right;\n",
       "    }\n",
       "</style>\n",
       "<table border=\"1\" class=\"dataframe\">\n",
       "  <thead>\n",
       "    <tr style=\"text-align: right;\">\n",
       "      <th></th>\n",
       "      <th>CL</th>\n",
       "      <th>CF</th>\n",
       "      <th>SF</th>\n",
       "      <th>FA</th>\n",
       "    </tr>\n",
       "  </thead>\n",
       "  <tbody>\n",
       "    <tr>\n",
       "      <th>0</th>\n",
       "      <td>1000000</td>\n",
       "      <td>461</td>\n",
       "      <td>947</td>\n",
       "      <td>1404</td>\n",
       "    </tr>\n",
       "    <tr>\n",
       "      <th>1</th>\n",
       "      <td>1000001</td>\n",
       "      <td>240</td>\n",
       "      <td>458</td>\n",
       "      <td>1062</td>\n",
       "    </tr>\n",
       "    <tr>\n",
       "      <th>2</th>\n",
       "      <td>1000002</td>\n",
       "      <td>165</td>\n",
       "      <td>261</td>\n",
       "      <td>881</td>\n",
       "    </tr>\n",
       "    <tr>\n",
       "      <th>3</th>\n",
       "      <td>1000003</td>\n",
       "      <td>519</td>\n",
       "      <td>724</td>\n",
       "      <td>1456</td>\n",
       "    </tr>\n",
       "    <tr>\n",
       "      <th>4</th>\n",
       "      <td>1000004</td>\n",
       "      <td>104</td>\n",
       "      <td>205</td>\n",
       "      <td>333</td>\n",
       "    </tr>\n",
       "  </tbody>\n",
       "</table>\n",
       "</div>"
      ],
      "text/plain": [
       "        CL   CF   SF    FA\n",
       "0  1000000  461  947  1404\n",
       "1  1000001  240  458  1062\n",
       "2  1000002  165  261   881\n",
       "3  1000003  519  724  1456\n",
       "4  1000004  104  205   333"
      ]
     },
     "execution_count": 6,
     "metadata": {},
     "output_type": "execute_result"
    }
   ],
   "source": [
    "# SCOPe class specific data distribution at th\n",
    "# for th in [10, 20, 30, 40, 70, 95]:\n",
    "th = 95    \n",
    "df = pd.read_csv(home_dir+\"data/SCOP/processed_at_th/th_\"+str(th)+\".tsv\", sep=\"\\t\")\n",
    "df[[\"CL\", \"CF\", \"SF\", \"FA\"]].groupby(by=\"CL\").nunique().reset_index()"
   ]
  },
  {
   "cell_type": "markdown",
   "metadata": {},
   "source": [
    "### Results"
   ]
  },
  {
   "cell_type": "code",
   "execution_count": 7,
   "metadata": {},
   "outputs": [
    {
     "name": "stdout",
     "output_type": "stream",
     "text": [
      "SCOP fold weighted auroc\n",
      "0.49\t0.49\t0.50\t0.50\t0.50\t0.50\n",
      "0.72\t0.72\t0.73\t0.73\t0.74\t0.74\n",
      "0.71\t0.71\t0.72\t0.74\t0.75\t0.76\n",
      "0.63\t0.62\t0.63\t0.63\t0.63\t0.63\n",
      "0.64\t0.64\t0.64\t0.64\t0.64\t0.64\n",
      "0.60\t0.60\t0.61\t0.60\t0.59\t0.59\n",
      "0.62\t0.62\t0.62\t0.61\t0.61\t0.61\n",
      "0.73\t0.73\t0.73\t0.73\t0.73\t0.74\n",
      "SCOP fold weighted auprc\n",
      "0.00\t0.00\t0.00\t0.00\t0.00\t0.00\n",
      "0.03\t0.02\t0.03\t0.02\t0.02\t0.02\n",
      "0.02\t0.02\t0.02\t0.02\t0.02\t0.02\n",
      "0.04\t0.03\t0.04\t0.03\t0.03\t0.03\n",
      "0.05\t0.04\t0.04\t0.04\t0.04\t0.04\n",
      "0.02\t0.02\t0.02\t0.02\t0.02\t0.02\n",
      "0.02\t0.02\t0.02\t0.01\t0.01\t0.01\n",
      "0.06\t0.05\t0.05\t0.05\t0.04\t0.04\n",
      "SCOP fold weighted hit1\n",
      "0.00\t0.00\t0.00\t0.00\t0.00\t0.00\n",
      "0.05\t0.05\t0.05\t0.05\t0.05\t0.05\n",
      "0.04\t0.04\t0.04\t0.04\t0.04\t0.04\n",
      "0.10\t0.09\t0.10\t0.09\t0.09\t0.09\n",
      "0.12\t0.12\t0.12\t0.12\t0.12\t0.12\n",
      "0.05\t0.05\t0.05\t0.05\t0.05\t0.04\n",
      "0.06\t0.06\t0.05\t0.05\t0.05\t0.05\n",
      "0.12\t0.11\t0.11\t0.11\t0.11\t0.11\n",
      "SCOP fold weighted hit10\n",
      "0.02\t0.02\t0.02\t0.02\t0.02\t0.02\n",
      "0.14\t0.14\t0.14\t0.15\t0.14\t0.13\n",
      "0.13\t0.12\t0.12\t0.12\t0.12\t0.12\n",
      "0.22\t0.20\t0.21\t0.21\t0.19\t0.19\n",
      "0.24\t0.24\t0.23\t0.22\t0.22\t0.21\n",
      "0.13\t0.13\t0.13\t0.13\t0.12\t0.11\n",
      "0.15\t0.15\t0.15\t0.15\t0.14\t0.14\n",
      "0.23\t0.23\t0.22\t0.22\t0.20\t0.20\n"
     ]
    }
   ],
   "source": [
    "# data specific results \n",
    "data_name = \"SCOP\" # SCOPe, SCOP\n",
    "remote_homology_level = \"fold\"  # superfamily, fold\n",
    "results_type = \"weighted\" # non_weighted, weighted\n",
    "ranking_results = \"ranking_results_random_repseq\" # ranking_results, ranking_results_cdhit_repseq, ranking_results_random_repseq\n",
    "\n",
    "for metric_name in [\"auroc\", \"auprc\", \"hit1\", \"hit10\"]:\n",
    "\n",
    "    print(data_name, remote_homology_level, results_type, metric_name)\n",
    "\n",
    "    model_names_dict = {\"random\": \"Random\", \"tapebert\":\"TAPE-BERT\", \"proteinbert\": \"ProteinBERT\", \"esm2_t33_650M_UR50D\":\"ESM2\", \"esm1b_t33_650M_UR50S\":\"ESM1b\", \n",
    "                        \"prottrans_bert_bfd\": \"Prottrans-BERT\", \"prottrans_albert_bfd\":\"Prottrans-ALBERT\", \"prottrans_t5_bfd\":\"Prottrans-T5\"}\n",
    "    ths = [10, 20, 30, 40, 70, 95]\n",
    "\n",
    "    for model_name_key, model_name_value in model_names_dict.items():\n",
    "        # print(model_name_value, sep=\"\\t\", end=\"\\t\")\n",
    "        for j, th in enumerate(ths):\n",
    "            results_df = pd.read_csv(home_dir+f\"data/{data_name}/{ranking_results}/{model_name_key}/{remote_homology_level}/th_{th}/{results_type}_results.tsv\", sep=\"\\t\")\n",
    "            mean_perf = results_df[results_df[\"index\"]==\"mean\"]\n",
    "            # auroc, auprc, hit1, hit10 = mean_perf[\"auroc\"].values[0],  mean_perf[\"auprc\"].values[0],  mean_perf[\"hit1\"].values[0],  mean_perf[\"hit10\"].values[0]\n",
    "\n",
    "            metric = mean_perf[metric_name].values[0]\n",
    "            \n",
    "            if j==len(ths)-1:\n",
    "                print(f\"{metric:.2f}\", sep=\"\\t\", end=\"\\n\")\n",
    "            else: print(f\"{metric:.2f}\", sep=\"\\t\", end=\"\\t\")\n",
    "            # break\n",
    "        # break"
   ]
  }
 ],
 "metadata": {
  "kernelspec": {
   "display_name": "Python 3 (ipykernel)",
   "language": "python",
   "name": "python3"
  },
  "language_info": {
   "codemirror_mode": {
    "name": "ipython",
    "version": 3
   },
   "file_extension": ".py",
   "mimetype": "text/x-python",
   "name": "python",
   "nbconvert_exporter": "python",
   "pygments_lexer": "ipython3",
   "version": "3.11.9"
  }
 },
 "nbformat": 4,
 "nbformat_minor": 4
}
