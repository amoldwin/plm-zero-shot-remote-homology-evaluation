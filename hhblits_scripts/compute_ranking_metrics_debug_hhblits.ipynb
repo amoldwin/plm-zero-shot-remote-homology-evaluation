{
 "cells": [
  {
   "cell_type": "code",
   "execution_count": 1,
   "metadata": {},
   "outputs": [],
   "source": [
    "import os\n",
    "import sys\n",
    "home_dir = \"../\"\n",
    "sys.path.append(home_dir)\n",
    "\n",
    "import pandas as pd\n",
    "import numpy as np\n",
    "from joblib import delayed, Parallel\n",
    "from typing import List\n",
    "# from torchmetrics.functional import pairwise_cosine_similarity\n",
    "import remote_homologs.pickle_utils as pickle_utils\n",
    "import csv\n",
    "from sklearn.metrics import precision_recall_curve, auc, roc_curve"
   ]
  },
  {
   "cell_type": "code",
   "execution_count": 7,
   "metadata": {},
   "outputs": [],
   "source": [
    "scop_df = pd.read_csv('../data/SCOP/processed/SCOP_with_seq.tsv',sep='\\t')"
   ]
  },
  {
   "cell_type": "code",
   "execution_count": 12,
   "metadata": {},
   "outputs": [
    {
     "data": {
      "text/html": [
       "<div>\n",
       "<style scoped>\n",
       "    .dataframe tbody tr th:only-of-type {\n",
       "        vertical-align: middle;\n",
       "    }\n",
       "\n",
       "    .dataframe tbody tr th {\n",
       "        vertical-align: top;\n",
       "    }\n",
       "\n",
       "    .dataframe thead th {\n",
       "        text-align: right;\n",
       "    }\n",
       "</style>\n",
       "<table border=\"1\" class=\"dataframe\">\n",
       "  <thead>\n",
       "    <tr style=\"text-align: right;\">\n",
       "      <th></th>\n",
       "      <th>FA-DOMID</th>\n",
       "      <th>FA-PDBID</th>\n",
       "      <th>FA-PDBREG</th>\n",
       "      <th>FA-UNIID</th>\n",
       "      <th>FA-UNIREG</th>\n",
       "      <th>SF-DOMID</th>\n",
       "      <th>SF-PDBID</th>\n",
       "      <th>SF-PDBREG</th>\n",
       "      <th>SF-UNIID</th>\n",
       "      <th>SF-UNIREG</th>\n",
       "      <th>SCOPCLA</th>\n",
       "      <th>TP</th>\n",
       "      <th>CL</th>\n",
       "      <th>CF</th>\n",
       "      <th>SF</th>\n",
       "      <th>FA</th>\n",
       "      <th>seq</th>\n",
       "    </tr>\n",
       "  </thead>\n",
       "  <tbody>\n",
       "    <tr>\n",
       "      <th>0</th>\n",
       "      <td>8045703</td>\n",
       "      <td>3H8D</td>\n",
       "      <td>C:1143-1264</td>\n",
       "      <td>Q64331</td>\n",
       "      <td>1143-1264</td>\n",
       "      <td>8091604</td>\n",
       "      <td>3H8D</td>\n",
       "      <td>C:1143-1264</td>\n",
       "      <td>Q64331</td>\n",
       "      <td>1143-1264</td>\n",
       "      <td>TP=1,CL=1000003,CF=2001470,SF=3002524,FA=4004627</td>\n",
       "      <td>1</td>\n",
       "      <td>1000003</td>\n",
       "      <td>2001470</td>\n",
       "      <td>3002524</td>\n",
       "      <td>4004627</td>\n",
       "      <td>DMKRQQRFFRIPFIRPADQYKDPQNKKKGWWYAHFDGPWIARQMEL...</td>\n",
       "    </tr>\n",
       "    <tr>\n",
       "      <th>1</th>\n",
       "      <td>8094330</td>\n",
       "      <td>6J56</td>\n",
       "      <td>A:1158-1282</td>\n",
       "      <td>Q9UM54</td>\n",
       "      <td>1167-1291</td>\n",
       "      <td>8094331</td>\n",
       "      <td>6J56</td>\n",
       "      <td>A:1158-1282</td>\n",
       "      <td>Q9UM54</td>\n",
       "      <td>1167-1291</td>\n",
       "      <td>TP=1,CL=1000003,CF=2001470,SF=3002524,FA=4004627</td>\n",
       "      <td>1</td>\n",
       "      <td>1000003</td>\n",
       "      <td>2001470</td>\n",
       "      <td>3002524</td>\n",
       "      <td>4004627</td>\n",
       "      <td>RQREIEMNRQQRFFRIPFIRPADQYKDPQSKKKGWWYAHFDGPWIA...</td>\n",
       "    </tr>\n",
       "    <tr>\n",
       "      <th>2</th>\n",
       "      <td>8017835</td>\n",
       "      <td>3FKQ</td>\n",
       "      <td>A:1-116</td>\n",
       "      <td>D0VX10</td>\n",
       "      <td>1-116</td>\n",
       "      <td>8017836</td>\n",
       "      <td>3FKQ</td>\n",
       "      <td>A:1-116</td>\n",
       "      <td>D0VX10</td>\n",
       "      <td>1-116</td>\n",
       "      <td>TP=1,CL=1000002,CF=2000016,SF=3001156,FA=4003986</td>\n",
       "      <td>1</td>\n",
       "      <td>1000002</td>\n",
       "      <td>2000016</td>\n",
       "      <td>3001156</td>\n",
       "      <td>4003986</td>\n",
       "      <td>MKIKVALLDKDKEYLDRLTGVFNTKYADKLEVYSFTDEKNAIESVK...</td>\n",
       "    </tr>\n",
       "    <tr>\n",
       "      <th>3</th>\n",
       "      <td>8021315</td>\n",
       "      <td>1XHF</td>\n",
       "      <td>A:2-122</td>\n",
       "      <td>P0A9Q1</td>\n",
       "      <td>2-122</td>\n",
       "      <td>8033695</td>\n",
       "      <td>1XHF</td>\n",
       "      <td>A:2-122</td>\n",
       "      <td>P0A9Q1</td>\n",
       "      <td>2-122</td>\n",
       "      <td>TP=1,CL=1000002,CF=2000016,SF=3001156,FA=4003632</td>\n",
       "      <td>1</td>\n",
       "      <td>1000002</td>\n",
       "      <td>2000016</td>\n",
       "      <td>3001156</td>\n",
       "      <td>4003632</td>\n",
       "      <td>QTPHILIVEDELVTRNTLKSIFEAEGYDVFEATDGAEMHQILSEYD...</td>\n",
       "    </tr>\n",
       "    <tr>\n",
       "      <th>4</th>\n",
       "      <td>8021787</td>\n",
       "      <td>1Y7P</td>\n",
       "      <td>B:79-215</td>\n",
       "      <td>O28869</td>\n",
       "      <td>79-215</td>\n",
       "      <td>8034167</td>\n",
       "      <td>1Y7P</td>\n",
       "      <td>B:79-215</td>\n",
       "      <td>O28869</td>\n",
       "      <td>79-215</td>\n",
       "      <td>TP=1,CL=1000002,CF=2000016,SF=3001156,FA=4002481</td>\n",
       "      <td>1</td>\n",
       "      <td>1000002</td>\n",
       "      <td>2000016</td>\n",
       "      <td>3001156</td>\n",
       "      <td>4002481</td>\n",
       "      <td>SFERVFGKRVIILGGGALVSQVAIGAISEADRHNLRGERISVDTMP...</td>\n",
       "    </tr>\n",
       "    <tr>\n",
       "      <th>...</th>\n",
       "      <td>...</td>\n",
       "      <td>...</td>\n",
       "      <td>...</td>\n",
       "      <td>...</td>\n",
       "      <td>...</td>\n",
       "      <td>...</td>\n",
       "      <td>...</td>\n",
       "      <td>...</td>\n",
       "      <td>...</td>\n",
       "      <td>...</td>\n",
       "      <td>...</td>\n",
       "      <td>...</td>\n",
       "      <td>...</td>\n",
       "      <td>...</td>\n",
       "      <td>...</td>\n",
       "      <td>...</td>\n",
       "      <td>...</td>\n",
       "    </tr>\n",
       "    <tr>\n",
       "      <th>31071</th>\n",
       "      <td>8022870</td>\n",
       "      <td>1SCJ</td>\n",
       "      <td>B:307-377</td>\n",
       "      <td>P04189</td>\n",
       "      <td>36-106</td>\n",
       "      <td>8035250</td>\n",
       "      <td>1SCJ</td>\n",
       "      <td>B:307-377</td>\n",
       "      <td>P04189</td>\n",
       "      <td>36-106</td>\n",
       "      <td>TP=1,CL=1000003,CF=2000014,SF=3001155,FA=4001246</td>\n",
       "      <td>1</td>\n",
       "      <td>1000003</td>\n",
       "      <td>2000014</td>\n",
       "      <td>3001155</td>\n",
       "      <td>4001246</td>\n",
       "      <td>EKKYIVGFKQTMSAMSSAKKKDVISEKGGKVQKQFKYVNAAAATLD...</td>\n",
       "    </tr>\n",
       "    <tr>\n",
       "      <th>31072</th>\n",
       "      <td>8027500</td>\n",
       "      <td>1T1E</td>\n",
       "      <td>A:12-188</td>\n",
       "      <td>Q8RR56</td>\n",
       "      <td>12-188</td>\n",
       "      <td>8039879</td>\n",
       "      <td>1T1E</td>\n",
       "      <td>A:12-188</td>\n",
       "      <td>Q8RR56</td>\n",
       "      <td>12-188</td>\n",
       "      <td>TP=1,CL=1000003,CF=2000014,SF=3001155,FA=4001246</td>\n",
       "      <td>1</td>\n",
       "      <td>1000003</td>\n",
       "      <td>2000014</td>\n",
       "      <td>3001155</td>\n",
       "      <td>4001246</td>\n",
       "      <td>EKREVLAGHARRQAPQAVDKGPVTGDQRISVTVVLRRQRGDELEAH...</td>\n",
       "    </tr>\n",
       "    <tr>\n",
       "      <th>31073</th>\n",
       "      <td>8027593</td>\n",
       "      <td>1JQG</td>\n",
       "      <td>A:4P-100P</td>\n",
       "      <td>O97389</td>\n",
       "      <td>18-109</td>\n",
       "      <td>8039972</td>\n",
       "      <td>1JQG</td>\n",
       "      <td>A:4P-100P</td>\n",
       "      <td>O97389</td>\n",
       "      <td>18-109</td>\n",
       "      <td>TP=1,CL=1000003,CF=2000014,SF=3001155,FA=4001250</td>\n",
       "      <td>1</td>\n",
       "      <td>1000003</td>\n",
       "      <td>2000014</td>\n",
       "      <td>3001155</td>\n",
       "      <td>4001250</td>\n",
       "      <td>HEIYDGHAVYQVDVASMDQVKLVHDFENDLMLDVWSDAVPGRPGKV...</td>\n",
       "    </tr>\n",
       "    <tr>\n",
       "      <th>31074</th>\n",
       "      <td>8028119</td>\n",
       "      <td>1KN6</td>\n",
       "      <td>A:4-76</td>\n",
       "      <td>P63239</td>\n",
       "      <td>31-103</td>\n",
       "      <td>8040498</td>\n",
       "      <td>1KN6</td>\n",
       "      <td>A:4-76</td>\n",
       "      <td>P63239</td>\n",
       "      <td>31-103</td>\n",
       "      <td>TP=1,CL=1000003,CF=2000014,SF=3001155,FA=4002630</td>\n",
       "      <td>1</td>\n",
       "      <td>1000003</td>\n",
       "      <td>2000014</td>\n",
       "      <td>3001155</td>\n",
       "      <td>4002630</td>\n",
       "      <td>FVNEWAAEIPGGQEAASAIAEELGYDLLGQIGSLENHYLFKHKSHP...</td>\n",
       "    </tr>\n",
       "    <tr>\n",
       "      <th>31075</th>\n",
       "      <td>8028297</td>\n",
       "      <td>1KWM</td>\n",
       "      <td>A:1A-95A</td>\n",
       "      <td>P15086</td>\n",
       "      <td>16-110</td>\n",
       "      <td>8040676</td>\n",
       "      <td>1KWM</td>\n",
       "      <td>A:1A-95A</td>\n",
       "      <td>P15086</td>\n",
       "      <td>16-110</td>\n",
       "      <td>TP=1,CL=1000003,CF=2000014,SF=3001155,FA=4001250</td>\n",
       "      <td>1</td>\n",
       "      <td>1000003</td>\n",
       "      <td>2000014</td>\n",
       "      <td>3001155</td>\n",
       "      <td>4001250</td>\n",
       "      <td>HHGGEHFEGEKVFRVNVEDENHINIIRELASTTQIDFWKPDSVTQI...</td>\n",
       "    </tr>\n",
       "  </tbody>\n",
       "</table>\n",
       "<p>31076 rows × 17 columns</p>\n",
       "</div>"
      ],
      "text/plain": [
       "       FA-DOMID FA-PDBID    FA-PDBREG FA-UNIID  FA-UNIREG  SF-DOMID SF-PDBID  \\\n",
       "0       8045703     3H8D  C:1143-1264   Q64331  1143-1264   8091604     3H8D   \n",
       "1       8094330     6J56  A:1158-1282   Q9UM54  1167-1291   8094331     6J56   \n",
       "2       8017835     3FKQ      A:1-116   D0VX10      1-116   8017836     3FKQ   \n",
       "3       8021315     1XHF      A:2-122   P0A9Q1      2-122   8033695     1XHF   \n",
       "4       8021787     1Y7P     B:79-215   O28869     79-215   8034167     1Y7P   \n",
       "...         ...      ...          ...      ...        ...       ...      ...   \n",
       "31071   8022870     1SCJ    B:307-377   P04189     36-106   8035250     1SCJ   \n",
       "31072   8027500     1T1E     A:12-188   Q8RR56     12-188   8039879     1T1E   \n",
       "31073   8027593     1JQG    A:4P-100P   O97389     18-109   8039972     1JQG   \n",
       "31074   8028119     1KN6       A:4-76   P63239     31-103   8040498     1KN6   \n",
       "31075   8028297     1KWM     A:1A-95A   P15086     16-110   8040676     1KWM   \n",
       "\n",
       "         SF-PDBREG SF-UNIID  SF-UNIREG  \\\n",
       "0      C:1143-1264   Q64331  1143-1264   \n",
       "1      A:1158-1282   Q9UM54  1167-1291   \n",
       "2          A:1-116   D0VX10      1-116   \n",
       "3          A:2-122   P0A9Q1      2-122   \n",
       "4         B:79-215   O28869     79-215   \n",
       "...            ...      ...        ...   \n",
       "31071    B:307-377   P04189     36-106   \n",
       "31072     A:12-188   Q8RR56     12-188   \n",
       "31073    A:4P-100P   O97389     18-109   \n",
       "31074       A:4-76   P63239     31-103   \n",
       "31075     A:1A-95A   P15086     16-110   \n",
       "\n",
       "                                                SCOPCLA  TP       CL       CF  \\\n",
       "0      TP=1,CL=1000003,CF=2001470,SF=3002524,FA=4004627   1  1000003  2001470   \n",
       "1      TP=1,CL=1000003,CF=2001470,SF=3002524,FA=4004627   1  1000003  2001470   \n",
       "2      TP=1,CL=1000002,CF=2000016,SF=3001156,FA=4003986   1  1000002  2000016   \n",
       "3      TP=1,CL=1000002,CF=2000016,SF=3001156,FA=4003632   1  1000002  2000016   \n",
       "4      TP=1,CL=1000002,CF=2000016,SF=3001156,FA=4002481   1  1000002  2000016   \n",
       "...                                                 ...  ..      ...      ...   \n",
       "31071  TP=1,CL=1000003,CF=2000014,SF=3001155,FA=4001246   1  1000003  2000014   \n",
       "31072  TP=1,CL=1000003,CF=2000014,SF=3001155,FA=4001246   1  1000003  2000014   \n",
       "31073  TP=1,CL=1000003,CF=2000014,SF=3001155,FA=4001250   1  1000003  2000014   \n",
       "31074  TP=1,CL=1000003,CF=2000014,SF=3001155,FA=4002630   1  1000003  2000014   \n",
       "31075  TP=1,CL=1000003,CF=2000014,SF=3001155,FA=4001250   1  1000003  2000014   \n",
       "\n",
       "            SF       FA                                                seq  \n",
       "0      3002524  4004627  DMKRQQRFFRIPFIRPADQYKDPQNKKKGWWYAHFDGPWIARQMEL...  \n",
       "1      3002524  4004627  RQREIEMNRQQRFFRIPFIRPADQYKDPQSKKKGWWYAHFDGPWIA...  \n",
       "2      3001156  4003986  MKIKVALLDKDKEYLDRLTGVFNTKYADKLEVYSFTDEKNAIESVK...  \n",
       "3      3001156  4003632  QTPHILIVEDELVTRNTLKSIFEAEGYDVFEATDGAEMHQILSEYD...  \n",
       "4      3001156  4002481  SFERVFGKRVIILGGGALVSQVAIGAISEADRHNLRGERISVDTMP...  \n",
       "...        ...      ...                                                ...  \n",
       "31071  3001155  4001246  EKKYIVGFKQTMSAMSSAKKKDVISEKGGKVQKQFKYVNAAAATLD...  \n",
       "31072  3001155  4001246  EKREVLAGHARRQAPQAVDKGPVTGDQRISVTVVLRRQRGDELEAH...  \n",
       "31073  3001155  4001250  HEIYDGHAVYQVDVASMDQVKLVHDFENDLMLDVWSDAVPGRPGKV...  \n",
       "31074  3001155  4002630  FVNEWAAEIPGGQEAASAIAEELGYDLLGQIGSLENHYLFKHKSHP...  \n",
       "31075  3001155  4001250  HHGGEHFEGEKVFRVNVEDENHINIIRELASTTQIDFWKPDSVTQI...  \n",
       "\n",
       "[31076 rows x 17 columns]"
      ]
     },
     "execution_count": 12,
     "metadata": {},
     "output_type": "execute_result"
    }
   ],
   "source": [
    "scop_df"
   ]
  },
  {
   "cell_type": "code",
   "execution_count": 21,
   "metadata": {},
   "outputs": [
    {
     "data": {
      "text/plain": [
       "15972    A0A2K1JLZ3\n",
       "Name: SF-UNIID, dtype: object"
      ]
     },
     "execution_count": 21,
     "metadata": {},
     "output_type": "execute_result"
    }
   ],
   "source": [
    "scop_df['SF-UNIID'][scop_df['SF-UNIID'].apply(lambda x: '1jlz' in x.lower())]"
   ]
  },
  {
   "cell_type": "code",
   "execution_count": 100,
   "metadata": {},
   "outputs": [],
   "source": [
    "small_part = True"
   ]
  },
  {
   "cell_type": "code",
   "execution_count": 2,
   "metadata": {},
   "outputs": [],
   "source": [
    "from typing import Any, Mapping, Optional, Sequence\n"
   ]
  },
  {
   "cell_type": "code",
   "execution_count": 24,
   "metadata": {},
   "outputs": [],
   "source": [
    "data = pd.read_pickle('../data/SCOPe/contrib_hhblits/scope_th95_hhsearch_logeval_dct.pk')"
   ]
  },
  {
   "cell_type": "code",
   "execution_count": 4,
   "metadata": {
    "tags": []
   },
   "outputs": [
    {
     "data": {
      "text/plain": [
       "['-15.093',\n",
       " '-15.094',\n",
       " '-15.095',\n",
       " '-15.096',\n",
       " '-15.098',\n",
       " '-15.105',\n",
       " '-15.108',\n",
       " '-15.110',\n",
       " '-15.113',\n",
       " '-15.115']"
      ]
     },
     "execution_count": 4,
     "metadata": {},
     "output_type": "execute_result"
    }
   ],
   "source": [
    "list( data[list(data.keys())[0]].values())[-10:]\n"
   ]
  },
  {
   "cell_type": "code",
   "execution_count": 5,
   "metadata": {},
   "outputs": [
    {
     "data": {
      "text/plain": [
       "matrix([[1.1, 2.2, 3.2],\n",
       "        [1.1, 2.2, 3.2]])"
      ]
     },
     "execution_count": 5,
     "metadata": {},
     "output_type": "execute_result"
    }
   ],
   "source": [
    "np.matrix(pd.Series([np.array([1.1,2.2,3.2]),np.array([1.1,2.2,3.2])]).tolist())"
   ]
  },
  {
   "cell_type": "code",
   "execution_count": 11,
   "metadata": {
    "tags": []
   },
   "outputs": [],
   "source": [
    "# # [line for line in lines if 'NAME' in line]\n",
    "\n",
    "# all_seqs = pd.read_csv('~/PROJECTS/remote_homologs/data/SCOPe/contrib_hhblits/scope_th95.fas', sep='\\t', lineterminator='>', header=None)\n",
    "\n",
    "# len(all_seqs[0].apply(lambda x: x.split()[0]).unique())\n",
    "\n",
    "# all_seqs\n",
    "\n",
    "# all_seqs[0]=all_seqs[0].apply(lambda x: '>'+ x)\n",
    "\n",
    "# chunks = np.array_split(all_seqs, 10)\n",
    "\n",
    "# chunks\n",
    "\n",
    "# for i,chunk in enumerate(chunks):\n",
    "#     chunk.to_csv('~/PROJECTS/remote_homologs/data/SCOPe/contrib_hhblits/scope_th95_chunk'+str(i)+'.fas', header=False, index=False, quoting=csv.QUOTE_NONE, escapechar=' ')"
   ]
  },
  {
   "cell_type": "raw",
   "metadata": {},
   "source": [
    "# # ~ 5mins\n",
    "# def compute_embeddings_similarities(sids:List, embeddings_dirpath:str, n_embeddings_to_load:int, is_random:bool=False):\n",
    "\n",
    "#     def load_embeddings(sids, embeddings_dirpath, n_embeddings_to_load):\n",
    "#         reps = []\n",
    "#         for i, sid in enumerate(sids):\n",
    "#             rep = pickle_utils.load(embeddings_dirpath + str(sid) + \".pkl\")\n",
    "#             reps.append(rep)\n",
    "#             if i % 1000 == 0:\n",
    "#                 print(f\"loaded {i}|{n_embeddings_to_load} embedding\")\n",
    "\n",
    "#             # if i == 1000:\n",
    "#             #     break\n",
    "\n",
    "#         reps = np.stack(reps)\n",
    "#         return reps\n",
    "\n",
    "\n",
    "#     def compute_pairwise_cosine_similarities_in_cuda(reps: np.array):\n",
    "#         device = \"cuda\"  # necessary\n",
    "#         reps = torch.from_numpy(reps)\n",
    "#         reps = reps.to(device)\n",
    "#         similarities = pairwise_cosine_similarity(reps)\n",
    "#         similarities = similarities.detach().cpu().numpy()\n",
    "#         similarities = similarities.astype(np.float16)  # downcasting to save space\n",
    "#         print(f\"log: finished computing similarities {similarities.shape}\")\n",
    "#         return similarities\n",
    "\n",
    "\n",
    "#     if is_random:\n",
    "#         reps = []\n",
    "#         for _ in range(n_embeddings_to_load):\n",
    "#             reps.append(np.random.rand(100))\n",
    "#         # reps = np.random.rand(n_embeddings_to_load, 10)#, type=np.float16)\n",
    "#         reps = np.stack(reps)\n",
    "#     else:\n",
    "#         reps = load_embeddings(sids, embeddings_dirpath, n_embeddings_to_load)\n",
    "#     similarities = compute_pairwise_cosine_similarities_in_cuda(reps)\n",
    "#     return similarities\n",
    "\n",
    "# # to compute the random embedding similarities\n",
    "# # similarities = compute_embeddings_similarities(None, None, n_embeddings_to_load=90000, is_random=True)\n",
    "# # similarities.shape"
   ]
  },
  {
   "cell_type": "code",
   "execution_count": null,
   "metadata": {},
   "outputs": [],
   "source": []
  },
  {
   "cell_type": "code",
   "execution_count": 12,
   "metadata": {},
   "outputs": [],
   "source": [
    "def compute_remote_homolog_labels(remote_homologs_df: pd.DataFrame, pos_col:str, neg_col:str):\n",
    "    # pos_col=superfamily_col, neg_col=family_col\n",
    "    # pos_col=fold_col, neg_col=superfamily_col\n",
    "\n",
    "    n_data_points = remote_homologs_df.shape[0]\n",
    "\n",
    "    def compute_labels(i):\n",
    "        labels = np.zeros((n_data_points), dtype=int) # 0 is the negative label\n",
    "        for j in range(n_data_points):\n",
    "            if remote_homologs_df.loc[i, neg_col] == remote_homologs_df.loc[j, neg_col]:\n",
    "                labels[j] = -1 # will not be considered in the metric computation\n",
    "            elif remote_homologs_df.loc[i, pos_col] == remote_homologs_df.loc[j, pos_col]:\n",
    "                labels[j] = 1 # positive label\n",
    "        return labels\n",
    "\n",
    "\n",
    "        # for j in range(n_data_points):\n",
    "        #     if (remote_homologs_df.loc[i, pos_col] == remote_homologs_df.loc[j, pos_col]) and (remote_homologs_df.loc[i, neg_col] != remote_homologs_df.loc[j, neg_col]):\n",
    "        #         labels[j] = 1 # positive label\n",
    "        # return labels\n",
    "\n",
    "\n",
    "    with Parallel(n_jobs=os.cpu_count(), verbose=1) as parallel:\n",
    "        list_of_labels = parallel(delayed(compute_labels)(i)\n",
    "            for i in range(remote_homologs_df.shape[0]))\n",
    "\n",
    "    labels = np.stack(list_of_labels)\n",
    "    print(f\"log: finished computing ground-truth labels {labels.shape}\")\n",
    "    return labels\n"
   ]
  },
  {
   "cell_type": "code",
   "execution_count": 1,
   "metadata": {},
   "outputs": [],
   "source": [
    "import numpy as np"
   ]
  },
  {
   "cell_type": "code",
   "execution_count": 2,
   "metadata": {},
   "outputs": [],
   "source": [
    "def compute_auroc(y_true:np.array, y_pred:np.array):\n",
    "    fpr, tpr, ths = roc_curve(y_true, y_pred)\n",
    "    return auc(fpr, tpr)\n",
    "\n",
    "def compute_auprc(y_true:np.array, y_pred:np.array):\n",
    "    precision, recall, ths = precision_recall_curve(y_true, y_pred)\n",
    "    return auc(recall, precision)\n",
    "\n",
    "def compute_hitk(y_true:np.array, y_pred:np.array, k=10):\n",
    "    \"\"\"\n",
    "    y_true (numpy.ndarray): Array of actual values (1 for relevant items, 0 for irrelevant items).\n",
    "    y_pred (numpy.ndarray): Array of predicted values (1 for recommended items, 0 for non-recommended items).\n",
    "    \"\"\"\n",
    "    top_k_indices = np.argsort(y_pred)[::-1][:k]\n",
    "    hits = any(y_true[i] == 1 for i in top_k_indices)\n",
    "    hit_at_k = 1 if hits else 0\n",
    "    return hit_at_k\n",
    "\n",
    "# y_true, y_pred = np.array([1, 0, 1, 0, 1]), np.array([.7, .2, .8, .3, .9])\n",
    "# compute_hitk(y_true, y_pred, k=1)"
   ]
  },
  {
   "cell_type": "code",
   "execution_count": 15,
   "metadata": {},
   "outputs": [
    {
     "data": {
      "text/plain": [
       "1"
      ]
     },
     "execution_count": 15,
     "metadata": {},
     "output_type": "execute_result"
    }
   ],
   "source": [
    "compute_hitk([1,0,0,0,0,1],[0.98,0,0,0.99,0.99,0.97],6)"
   ]
  },
  {
   "cell_type": "code",
   "execution_count": 14,
   "metadata": {},
   "outputs": [],
   "source": [
    "def get_data_specific_parameters(data_name):\n",
    "    # SCOP parameters\n",
    "    if data_name == \"SCOP\":\n",
    "        sep = \"\\t\"\n",
    "        seq_id_col, family_col, superfamily_col, fold_col = \"FA-DOMID\", \"FA\", \"SF\", \"CF\"\n",
    "        data_filepath = home_dir + f\"data/{data_name}/processed/SCOP_with_seq.tsv\"\n",
    "\n",
    "    # SCOPe parameters\n",
    "    elif data_name == \"SCOPe\":\n",
    "        sep = \",\"\n",
    "        seq_id_col, family_col, superfamily_col, fold_col = \"sid\", \"family\", \"superfamily\", \"fold\"\n",
    "        data_filepath = home_dir + f\"data/{data_name}/all_sequences.csv\"\n",
    "\n",
    "    return sep, seq_id_col, family_col, superfamily_col, fold_col, data_filepath"
   ]
  },
  {
   "cell_type": "code",
   "execution_count": 15,
   "metadata": {},
   "outputs": [],
   "source": [
    "included_hhblits_seqs = list(data.keys())"
   ]
  },
  {
   "cell_type": "markdown",
   "metadata": {},
   "source": [
    "## The main scripts starts from here"
   ]
  },
  {
   "cell_type": "code",
   "execution_count": 16,
   "metadata": {},
   "outputs": [],
   "source": [
    "# if __name__ == \"__main__\":\n",
    "data_name = \"SCOPe\" # SCOP, SCOPe\n",
    "remote_homology_level = \"superfamily\" # superfamily, fold\n",
    "model_name = \"hhblits\"\n",
    "# random, tapebert, proteinbert, esm1b_t33_650M_UR50S, esm2_t33_650M_UR50D, prottrans_bert_bfd, prottrans_albert_bfd, prottrans_t5_bfd"
   ]
  },
  {
   "cell_type": "code",
   "execution_count": 17,
   "metadata": {},
   "outputs": [],
   "source": [
    "sep, seq_id_col, family_col, superfamily_col, fold_col, data_filepath = get_data_specific_parameters(data_name)\n",
    "# embeddings_dirpath = home_dir+f\"data/{data_name}/embeddings/{model_name}/\"\n",
    "ths = [10, 20, 30, 40, 70, 95]"
   ]
  },
  {
   "cell_type": "code",
   "execution_count": 18,
   "metadata": {},
   "outputs": [],
   "source": [
    "# setting up positive and negative col label based on remote_homology_level\n",
    "# superfamily level remote homologs\n",
    "if remote_homology_level == \"superfamily\":\n",
    "    pos_col, neg_col = superfamily_col, family_col\n",
    "# fold level remote homology\n",
    "elif remote_homology_level == \"fold\":\n",
    "    pos_col, neg_col = fold_col, superfamily_col\n",
    "else:\n",
    "    raise f\"remote_homology_level={remote_homology_level} not refined. Option: superfamily, fold\""
   ]
  },
  {
   "cell_type": "code",
   "execution_count": 20,
   "metadata": {},
   "outputs": [],
   "source": [
    "# import pickle \n",
    "\n",
    "# scores_dir = '../data/SCOPe/contrib_hhblits/'\n",
    "# fns = ['hhblits_all_th95_query_fast_chunk'+str(i)+'.scores.ffdata' for i in range(10)]\n",
    "\n",
    "# data = {}\n",
    "# current_entry = {}\n",
    "# i=0"
   ]
  },
  {
   "cell_type": "code",
   "execution_count": null,
   "metadata": {},
   "outputs": [],
   "source": [
    "# for fn in fns:\n",
    "#     scores_path = scores_dir + fn\n",
    "#     with open(scores_path, 'r') as file:\n",
    "#         for line in file:\n",
    "#             i+=1\n",
    "#             # if i>60000:\n",
    "#             #     break\n",
    "#             line = line.strip().replace('\\x00','')\n",
    "#             if line.startswith(\"NAME\"):\n",
    "#                 if current_entry:\n",
    "#                     data[current_entry['FILE']] = current_entry\n",
    "#                     current_entry = {}\n",
    "#             elif line:\n",
    "#                 key, value = line.split(maxsplit=1)\n",
    "#                 try:\n",
    "#                     if key !='FILE':\n",
    "#                         value = value.split()[8]\n",
    "#                 except:\n",
    "#                     pass\n",
    "#                 current_entry[key] = value\n",
    "#     break\n",
    "\n",
    "# list(data.keys())[0]\n",
    "\n",
    "# len(list(data.keys()))\n",
    "\n",
    "# sids = [pd.read_csv((scores_dir+'scope_th95_chunk'+str(i)+'.fas.ffindex'),sep='\\t', names=['sid','a','b'])['sid'] for i in range(10)]\n",
    "\n",
    "# len(pd.concat(sids))\n",
    "\n",
    "# for s in ['ffindex_from_fasta -s scope_th95_chunk'+str(i)+'.fas.ff{data,index} scope_th95_chunk'+str(i)+'.fas' for i in range(10)]:\n",
    "    # print(s)\n",
    "\n",
    "# included_hhblits_seqs[:10]\n",
    "\n",
    "# '../data/SCOPe/contrib_hhblits/'\n",
    "# fns = ['hhblits_all_th95_query_fast_chunk'+str(i)+'.scores.ffdata' for i in range(10)]"
   ]
  },
  {
   "cell_type": "code",
   "execution_count": 33,
   "metadata": {},
   "outputs": [],
   "source": [
    "# loading data and creating main dicts\n",
    "data_df = pd.read_csv(data_filepath, sep=sep)"
   ]
  },
  {
   "cell_type": "code",
   "execution_count": 101,
   "metadata": {},
   "outputs": [],
   "source": [
    "if small_part:\n",
    "    data_df = data_df.head(100)"
   ]
  },
  {
   "cell_type": "code",
   "execution_count": 102,
   "metadata": {},
   "outputs": [],
   "source": [
    "# data_df = data_df[data_df['sid'].apply(lambda x: x in included_hhblits_seqs)]"
   ]
  },
  {
   "cell_type": "code",
   "execution_count": 103,
   "metadata": {},
   "outputs": [],
   "source": [
    "# data_df"
   ]
  },
  {
   "cell_type": "code",
   "execution_count": 104,
   "metadata": {},
   "outputs": [],
   "source": [
    "int2sid_dict = data_df[seq_id_col].to_dict()\n",
    "sid2int_dict = {sid: i for i, sid in int2sid_dict.items()}"
   ]
  },
  {
   "cell_type": "code",
   "execution_count": 105,
   "metadata": {},
   "outputs": [],
   "source": [
    "def get_similarities_for_sid(sid):\n",
    "    sims=[]\n",
    "    if sid not in data.keys():\n",
    "        return np.array([float(-1)]*len(data_df),dtype=float)\n",
    "    for sid2 in data_df['sid']:\n",
    "        if sid2 in data[sid].keys():\n",
    "            sims.append(float(data[sid][sid2]))\n",
    "        else:\n",
    "            sims.append(float(0))\n",
    "    return np.array(sims,dtype=float)"
   ]
  },
  {
   "cell_type": "code",
   "execution_count": 167,
   "metadata": {},
   "outputs": [],
   "source": [
    "similarities = data_df['sid'].apply(get_similarities_for_sid)"
   ]
  },
  {
   "cell_type": "code",
   "execution_count": 168,
   "metadata": {},
   "outputs": [],
   "source": [
    "# similarities = similarities.apply(lambda x: [float(n) for n in x])"
   ]
  },
  {
   "cell_type": "code",
   "execution_count": 169,
   "metadata": {},
   "outputs": [],
   "source": [
    "similarities = np.array(similarities.tolist())"
   ]
  },
  {
   "cell_type": "code",
   "execution_count": 170,
   "metadata": {},
   "outputs": [
    {
     "data": {
      "text/plain": [
       "array([[ 77.846,   0.   ,   0.   , ...,   0.   ,   0.   ,  -7.207],\n",
       "       [ -1.   ,  -1.   ,  -1.   , ...,  -1.   ,  -1.   ,  -1.   ],\n",
       "       [ -1.   ,  -1.   ,  -1.   , ...,  -1.   ,  -1.   ,  -1.   ],\n",
       "       ...,\n",
       "       [ -1.   ,  -1.   ,  -1.   , ...,  -1.   ,  -1.   ,  -1.   ],\n",
       "       [ -1.   ,  -1.   ,  -1.   , ...,  -1.   ,  -1.   ,  -1.   ],\n",
       "       [-10.999,   0.   ,   0.   , ...,   0.   ,   0.   ,  54.084]])"
      ]
     },
     "execution_count": 170,
     "metadata": {},
     "output_type": "execute_result"
    }
   ],
   "source": [
    "similarities"
   ]
  },
  {
   "cell_type": "code",
   "execution_count": 171,
   "metadata": {},
   "outputs": [],
   "source": [
    "# len([x for x in similarities if x[0]!=-1])"
   ]
  },
  {
   "cell_type": "code",
   "execution_count": 172,
   "metadata": {},
   "outputs": [],
   "source": [
    "# # for debugging purpose onlu\n",
    "# # checking if the any embeddings contain nan values, and removing those file. \n",
    "# # then the data generator script needs to run again\n",
    "# x = []\n",
    "# for i, sid in enumerate(data_df[seq_id_col].to_list()):\n",
    "#     rep = pickle_utils.load(embeddings_dirpath + str(sid) + \".pkl\")\n",
    "#     # print(rep.shape)\n",
    "#     if np.isnan(rep).any() == True:\n",
    "#         print(i, sid, f\"removing {embeddings_dirpath + str(sid) + '.pkl'}\")\n",
    "#         # os.remove(embeddings_dirpath + str(sid) + \".pkl\") # deleting this file\n",
    "#         x.append(i)\n",
    "#     # break\n",
    "# print(len(x))\n",
    "# x"
   ]
  },
  {
   "cell_type": "code",
   "execution_count": 173,
   "metadata": {},
   "outputs": [],
   "source": [
    "# # computing embedding similarities\n",
    "# if model_name==\"random\":\n",
    "#     similarities = compute_embeddings_similarities(None, None, n_embeddings_to_load=data_df.shape[0], is_random=True)\n",
    "# else:\n",
    "#     similarities = compute_embeddings_similarities(data_df[seq_id_col].to_list(), embeddings_dirpath, data_df.shape[0], is_random=False)"
   ]
  },
  {
   "cell_type": "code",
   "execution_count": 174,
   "metadata": {},
   "outputs": [
    {
     "data": {
      "text/plain": [
       "'hhblits'"
      ]
     },
     "execution_count": 174,
     "metadata": {},
     "output_type": "execute_result"
    }
   ],
   "source": [
    "model_name"
   ]
  },
  {
   "cell_type": "code",
   "execution_count": 175,
   "metadata": {},
   "outputs": [
    {
     "name": "stdout",
     "output_type": "stream",
     "text": [
      "results exists\n"
     ]
    }
   ],
   "source": [
    "# for th in ths:\n",
    "th=10\n",
    "# creating output directory and files\n",
    "out_dir = home_dir+f\"data/{data_name}/ranking_results/{model_name}/{remote_homology_level}/th_{th}/\"\n",
    "os.makedirs(out_dir, exist_ok=True)\n",
    "final_results_per_queries_filepath = f\"{out_dir}results_per_query.tsv\"\n",
    "final_results_per_remhom_filepath = f\"{out_dir}results_per_{remote_homology_level}.tsv\"\n",
    "weighted_results_filepath = f\"{out_dir}weighted_results.tsv\"\n",
    "non_weighted_results_filepath = f\"{out_dir}non_weighted_results.tsv\"\n",
    "\n",
    "# checking whether the outputs are already computed\n",
    "if os.path.exists(final_results_per_queries_filepath) and os.path.exists(final_results_per_remhom_filepath) and os.path.exists(weighted_results_filepath) and os.path.exists(non_weighted_results_filepath):\n",
    "    # continue\n",
    "    print(\"results exists\")"
   ]
  },
  {
   "cell_type": "code",
   "execution_count": 176,
   "metadata": {},
   "outputs": [
    {
     "data": {
      "text/plain": [
       "10"
      ]
     },
     "execution_count": 176,
     "metadata": {},
     "output_type": "execute_result"
    }
   ],
   "source": [
    "th"
   ]
  },
  {
   "cell_type": "code",
   "execution_count": 177,
   "metadata": {},
   "outputs": [],
   "source": [
    "# loading data at th\n",
    "remote_homologs_filepath = home_dir+f\"data/{data_name}/processed_at_th/th_{str(th)}.tsv\"\n",
    "remote_homologs_df = pd.read_csv(remote_homologs_filepath, sep=\"\\t\")\n",
    "remhom_int2sid_dict = remote_homologs_df[seq_id_col].to_dict()\n",
    "remhom_sid2int_dict = {sid: i for i, sid in remhom_int2sid_dict.items()}"
   ]
  },
  {
   "cell_type": "code",
   "execution_count": null,
   "metadata": {
    "collapsed": true,
    "jupyter": {
     "outputs_hidden": true
    },
    "tags": []
   },
   "outputs": [
    {
     "name": "stderr",
     "output_type": "stream",
     "text": [
      "[Parallel(n_jobs=64)]: Using backend LokyBackend with 64 concurrent workers.\n",
      "Exception ignored in: <function _releaseLock at 0x7fc74b253dc0>\n",
      "Traceback (most recent call last):\n",
      "  File \"/opt/sw/spack/apps/linux-rhel8-x86_64_v2/gcc-10.3.0/python-3.9.9-jh/lib/python3.9/logging/__init__.py\", line 227, in _releaseLock\n",
      "    def _releaseLock():\n",
      "KeyboardInterrupt: \n",
      "Exception ignored in: <function _releaseLock at 0x7fc74b253dc0>\n",
      "Traceback (most recent call last):\n",
      "  File \"/opt/sw/spack/apps/linux-rhel8-x86_64_v2/gcc-10.3.0/python-3.9.9-jh/lib/python3.9/logging/__init__.py\", line 227, in _releaseLock\n",
      "    def _releaseLock():\n",
      "KeyboardInterrupt: \n",
      "Exception ignored in: <function _releaseLock at 0x7fc74b253dc0>\n",
      "Traceback (most recent call last):\n",
      "  File \"/opt/sw/spack/apps/linux-rhel8-x86_64_v2/gcc-10.3.0/python-3.9.9-jh/lib/python3.9/logging/__init__.py\", line 227, in _releaseLock\n",
      "    def _releaseLock():\n",
      "KeyboardInterrupt: \n",
      "Exception ignored in: Traceback (most recent call last):\n",
      "  File \"/opt/sw/spack/apps/linux-rhel8-x86_64_v2/gcc-10.3.0/python-3.9.9-jh/lib/python3.9/runpy.py\", line 188, in _run_module_as_main\n",
      "<function _releaseLock at 0x7fc74b253dc0>\n",
      "Traceback (most recent call last):\n",
      "  File \"/opt/sw/spack/apps/linux-rhel8-x86_64_v2/gcc-10.3.0/python-3.9.9-jh/lib/python3.9/logging/__init__.py\", line 227, in _releaseLock\n",
      "    def _releaseLock():\n",
      "KeyboardInterrupt: \n",
      "    mod_name, mod_spec, code = _get_module_details(mod_name, _Error)\n",
      "  File \"/opt/sw/spack/apps/linux-rhel8-x86_64_v2/gcc-10.3.0/python-3.9.9-jh/lib/python3.9/runpy.py\", line 111, in _get_module_details\n",
      "    __import__(pkg_name)\n",
      "  File \"/opt/sw/spack/apps/linux-rhel8-x86_64_v2/gcc-10.3.0/python-3.9.9-jh/lib/python3.9/site-packages/joblib/__init__.py\", line 113, in <module>\n",
      "    from .memory import Memory, MemorizedResult, register_store_backend\n",
      "  File \"/opt/sw/spack/apps/linux-rhel8-x86_64_v2/gcc-10.3.0/python-3.9.9-jh/lib/python3.9/site-packages/joblib/memory.py\", line 32, in <module>\n",
      "    from ._store_backends import StoreBackendBase, FileSystemStoreBackend\n",
      "  File \"/opt/sw/spack/apps/linux-rhel8-x86_64_v2/gcc-10.3.0/python-3.9.9-jh/lib/python3.9/site-packages/joblib/_store_backends.py\", line 15, in <module>\n",
      "    from .backports import concurrency_safe_rename\n",
      "  File \"/opt/sw/spack/apps/linux-rhel8-x86_64_v2/gcc-10.3.0/python-3.9.9-jh/lib/python3.9/site-packages/joblib/backports.py\", line 7, in <module>\n",
      "    from distutils.version import LooseVersion\n",
      "  File \"<frozen importlib._bootstrap>\", line 1007, in _find_and_load\n",
      "  File \"<frozen importlib._bootstrap>\", line 982, in _find_and_load_unlocked\n",
      "  File \"<frozen importlib._bootstrap>\", line 925, in _find_spec\n",
      "  File \"/home/amoldwin/.local/lib/python3.9/site-packages/_distutils_hack/__init__.py\", line 97, in find_spec\n",
      "    return method()\n",
      "  File \"/home/amoldwin/.local/lib/python3.9/site-packages/_distutils_hack/__init__.py\", line 108, in spec_for_distutils\n",
      "    mod = importlib.import_module('setuptools._distutils')\n",
      "  File \"/opt/sw/spack/apps/linux-rhel8-x86_64_v2/gcc-10.3.0/python-3.9.9-jh/lib/python3.9/importlib/__init__.py\", line 127, in import_module\n",
      "    return _bootstrap._gcd_import(name[level:], package, level)\n",
      "  File \"/home/amoldwin/.local/lib/python3.9/site-packages/setuptools/__init__.py\", line 17, in <module>\n",
      "    from setuptools.dist import Distribution\n",
      "  File \"/home/amoldwin/.local/lib/python3.9/site-packages/setuptools/dist.py\", line 37, in <module>\n",
      "    from setuptools.config import setupcfg, pyprojecttoml\n",
      "  File \"/home/amoldwin/.local/lib/python3.9/site-packages/setuptools/config/__init__.py\", line 8, in <module>\n",
      "    from . import setupcfg\n",
      "  File \"/home/amoldwin/.local/lib/python3.9/site-packages/setuptools/config/setupcfg.py\", line 33, in <module>\n",
      "    from ..extern.packaging.markers import default_environment as marker_env\n",
      "  File \"/home/amoldwin/.local/lib/python3.9/site-packages/setuptools/_vendor/packaging/markers.py\", line 11, in <module>\n",
      "    from ._parser import (\n",
      "  File \"/home/amoldwin/.local/lib/python3.9/site-packages/setuptools/_vendor/packaging/_parser.py\", line 10, in <module>\n",
      "    from ._tokenizer import DEFAULT_RULES, Tokenizer\n",
      "  File \"/home/amoldwin/.local/lib/python3.9/site-packages/setuptools/_vendor/packaging/_tokenizer.py\", line 3, in <module>\n",
      "    from dataclasses import dataclass\n",
      "  File \"/opt/sw/spack/apps/linux-rhel8-x86_64_v2/gcc-10.3.0/python-3.9.9-jh/lib/python3.9/dataclasses.py\", line 291, in <module>\n",
      "    class _DataclassParams:\n",
      "KeyboardInterrupt\n",
      "Exception ignored in: <function _releaseLock at 0x7fc74b253dc0>\n",
      "Traceback (most recent call last):\n",
      "  File \"/opt/sw/spack/apps/linux-rhel8-x86_64_v2/gcc-10.3.0/python-3.9.9-jh/lib/python3.9/logging/__init__.py\", line 227, in _releaseLock\n",
      "    def _releaseLock():\n",
      "KeyboardInterrupt: \n",
      "Exception ignored in: Traceback (most recent call last):\n",
      "  File \"/opt/sw/spack/apps/linux-rhel8-x86_64_v2/gcc-10.3.0/python-3.9.9-jh/lib/python3.9/runpy.py\", line 188, in _run_module_as_main\n",
      "<function _releaseLock at 0x7fc74b253dc0>\n",
      "Traceback (most recent call last):\n",
      "  File \"/opt/sw/spack/apps/linux-rhel8-x86_64_v2/gcc-10.3.0/python-3.9.9-jh/lib/python3.9/logging/__init__.py\", line 227, in _releaseLock\n",
      "Traceback (most recent call last):\n",
      "    mod_name, mod_spec, code = _get_module_details(mod_name, _Error)\n",
      "\n",
      "  File \"/opt/sw/spack/apps/linux-rhel8-x86_64_v2/gcc-10.3.0/python-3.9.9-jh/lib/python3.9/runpy.py\", line 111, in _get_module_details\n",
      "    __import__(pkg_name)\n",
      "  File \"/opt/sw/spack/apps/linux-rhel8-x86_64_v2/gcc-10.3.0/python-3.9.9-jh/lib/python3.9/site-packages/joblib/__init__.py\", line 113, in <module>\n",
      "    from .memory import Memory, MemorizedResult, register_store_backend\n",
      "  File \"/opt/sw/spack/apps/linux-rhel8-x86_64_v2/gcc-10.3.0/python-3.9.9-jh/lib/python3.9/site-packages/joblib/memory.py\", line 27, in <module>\n",
      "    from . import hashing\n",
      "  File \"/opt/sw/spack/apps/linux-rhel8-x86_64_v2/gcc-10.3.0/python-3.9.9-jh/lib/python3.9/site-packages/joblib/hashing.py\", line 16, in <module>\n",
      "    def _releaseLock():\n",
      "KeyboardInterrupt: \n",
      "    import decimal\n",
      "  File \"<frozen importlib._bootstrap>\", line 1007, in _find_and_load\n",
      "  File \"<frozen importlib._bootstrap>\", line 986, in _find_and_load_unlocked\n",
      "  File \"<frozen importlib._bootstrap>\", line 680, in _load_unlocked\n",
      "  File \"<frozen importlib._bootstrap_external>\", line 846, in exec_module\n",
      "  File \"<frozen importlib._bootstrap_external>\", line 941, in get_code\n",
      "Exception ignored in: <function _releaseLock at 0x7fc74b253dc0>\n",
      "Traceback (most recent call last):\n",
      "  File \"/opt/sw/spack/apps/linux-rhel8-x86_64_v2/gcc-10.3.0/python-3.9.9-jh/lib/python3.9/logging/__init__.py\", line 227, in _releaseLock\n",
      "    def _releaseLock():\n",
      "KeyboardInterrupt: \n",
      "  File \"<frozen importlib._bootstrap_external>\", line 1039, in get_data\n",
      "KeyboardInterrupt\n",
      "Exception ignored in: <function _releaseLock at 0x7fc74b253dc0>\n",
      "Traceback (most recent call last):\n",
      "  File \"/opt/sw/spack/apps/linux-rhel8-x86_64_v2/gcc-10.3.0/python-3.9.9-jh/lib/python3.9/logging/__init__.py\", line 227, in _releaseLock\n",
      "    def _releaseLock():\n",
      "KeyboardInterrupt: \n",
      "Exception ignored in: <function _releaseLock at 0x7fc74b253dc0>\n",
      "Traceback (most recent call last):\n",
      "  File \"/opt/sw/spack/apps/linux-rhel8-x86_64_v2/gcc-10.3.0/python-3.9.9-jh/lib/python3.9/logging/__init__.py\", line 227, in _releaseLock\n",
      "    def _releaseLock():\n",
      "KeyboardInterrupt: \n",
      "Exception ignored in: <function _releaseLock at 0x7fc74b253dc0>\n",
      "Traceback (most recent call last):\n",
      "  File \"/opt/sw/spack/apps/linux-rhel8-x86_64_v2/gcc-10.3.0/python-3.9.9-jh/lib/python3.9/logging/__init__.py\", line 227, in _releaseLock\n",
      "    def _releaseLock():\n",
      "KeyboardInterrupt: \n",
      "Exception ignored in: <function _releaseLock at 0x7fc74b253dc0>\n",
      "Traceback (most recent call last):\n",
      "  File \"/opt/sw/spack/apps/linux-rhel8-x86_64_v2/gcc-10.3.0/python-3.9.9-jh/lib/python3.9/logging/__init__.py\", line 227, in _releaseLock\n",
      "    def _releaseLock():\n",
      "KeyboardInterrupt: \n",
      "exception calling callback for <Future at 0x7fc716bbee20 state=finished returned list>\n",
      "joblib.externals.loky.process_executor._RemoteTraceback: \n",
      "\"\"\"\n",
      "Traceback (most recent call last):\n",
      "  File \"/opt/sw/spack/apps/linux-rhel8-x86_64_v2/gcc-10.3.0/python-3.9.9-jh/lib/python3.9/site-packages/joblib/externals/loky/process_executor.py\", line 407, in _process_worker\n",
      "    call_item = call_queue.get(block=True, timeout=timeout)\n",
      "  File \"/opt/sw/spack/apps/linux-rhel8-x86_64_v2/gcc-10.3.0/python-3.9.9-jh/lib/python3.9/multiprocessing/queues.py\", line 108, in get\n",
      "    if not self._rlock.acquire(block, timeout):\n",
      "KeyboardInterrupt\n",
      "\"\"\"\n",
      "\n",
      "The above exception was the direct cause of the following exception:\n",
      "\n",
      "Traceback (most recent call last):\n",
      "  File \"/opt/sw/spack/apps/linux-rhel8-x86_64_v2/gcc-10.3.0/python-3.9.9-jh/lib/python3.9/concurrent/futures/_base.py\", line 413, in add_done_callback\n",
      "    fn(self)\n",
      "  File \"/opt/sw/spack/apps/linux-rhel8-x86_64_v2/gcc-10.3.0/python-3.9.9-jh/lib/python3.9/site-packages/joblib/parallel.py\", line 359, in __call__\n",
      "    self.parallel.dispatch_next()\n",
      "  File \"/opt/sw/spack/apps/linux-rhel8-x86_64_v2/gcc-10.3.0/python-3.9.9-jh/lib/python3.9/site-packages/joblib/parallel.py\", line 794, in dispatch_next\n",
      "    if not self.dispatch_one_batch(self._original_iterator):\n",
      "  File \"/opt/sw/spack/apps/linux-rhel8-x86_64_v2/gcc-10.3.0/python-3.9.9-jh/lib/python3.9/site-packages/joblib/parallel.py\", line 861, in dispatch_one_batch\n",
      "    self._dispatch(tasks)\n",
      "  File \"/opt/sw/spack/apps/linux-rhel8-x86_64_v2/gcc-10.3.0/python-3.9.9-jh/lib/python3.9/site-packages/joblib/parallel.py\", line 779, in _dispatch\n",
      "    job = self._backend.apply_async(batch, callback=cb)\n",
      "  File \"/opt/sw/spack/apps/linux-rhel8-x86_64_v2/gcc-10.3.0/python-3.9.9-jh/lib/python3.9/site-packages/joblib/_parallel_backends.py\", line 531, in apply_async\n",
      "    future = self._workers.submit(SafeFunction(func))\n",
      "  File \"/opt/sw/spack/apps/linux-rhel8-x86_64_v2/gcc-10.3.0/python-3.9.9-jh/lib/python3.9/site-packages/joblib/externals/loky/reusable_executor.py\", line 177, in submit\n",
      "    return super(_ReusablePoolExecutor, self).submit(\n",
      "  File \"/opt/sw/spack/apps/linux-rhel8-x86_64_v2/gcc-10.3.0/python-3.9.9-jh/lib/python3.9/site-packages/joblib/externals/loky/process_executor.py\", line 1115, in submit\n",
      "    raise self._flags.broken\n",
      "joblib.externals.loky.process_executor.BrokenProcessPool: A task has failed to un-serialize. Please ensure that the arguments of the function are all picklable.\n"
     ]
    }
   ],
   "source": [
    "# computing ground-truth labels\n",
    "labels = compute_remote_homolog_labels(remote_homologs_df, pos_col=pos_col, neg_col=neg_col)"
   ]
  },
  {
   "cell_type": "code",
   "execution_count": 186,
   "metadata": {},
   "outputs": [
    {
     "data": {
      "text/plain": [
       "(6784, 6784)"
      ]
     },
     "execution_count": 186,
     "metadata": {},
     "output_type": "execute_result"
    }
   ],
   "source": [
    "labels.shape"
   ]
  },
  {
   "cell_type": "code",
   "execution_count": 179,
   "metadata": {},
   "outputs": [
    {
     "name": "stdout",
     "output_type": "stream",
     "text": [
      "ERROR! Session/line number was not unique in database. History logging moved to new session 953\n",
      "6\n",
      "6\n",
      "(6, 6)\n"
     ]
    }
   ],
   "source": [
    "# filtering out the similarities and lables corresponding to each other\n",
    "similarity_indices_to_keep =[sid2int_dict[sid] for sid in remote_homologs_df[seq_id_col] if sid in sid2int_dict]\n",
    "print(len(similarity_indices_to_keep))\n",
    "\n",
    "label_indices_to_keep = [remote_homologs_df[remote_homologs_df[seq_id_col]==int2sid_dict[idx]].index[0] for idx in similarity_indices_to_keep]\n",
    "print(len(label_indices_to_keep))\n",
    "\n",
    "labels_specific_to_conditions = labels[label_indices_to_keep, :]\n",
    "labels_specific_to_conditions = labels_specific_to_conditions[:, label_indices_to_keep]\n",
    "print(labels_specific_to_conditions.shape)"
   ]
  },
  {
   "cell_type": "code",
   "execution_count": 188,
   "metadata": {
    "collapsed": true,
    "jupyter": {
     "outputs_hidden": true
    },
    "tags": []
   },
   "outputs": [
    {
     "data": {
      "text/plain": [
       "array([[ 71.964,   0.   ,   0.   ,   0.   ,   0.   ,   0.   ,   0.   ,\n",
       "          0.   ,   0.   ,   0.   ,   0.   ,   0.   ,  70.62 ,   0.   ,\n",
       "          0.   ,   0.   ,  69.655,   0.   ,  65.981,   0.   ,   0.   ,\n",
       "          0.   ,   0.   ,   0.   ,  68.926,  79.624,  74.638,  -9.607,\n",
       "         -2.858,   0.   ,   0.   ,   0.   ,   0.   ,  -6.529,  -8.841,\n",
       "         -9.11 ,  -8.063,   0.   ,   0.   ,   0.   ,  -9.58 ,   0.   ,\n",
       "          0.   ,   0.   ,   0.   ,   0.   ,   0.   ,   0.   ,   0.   ,\n",
       "         -8.245,  -6.73 ,  -7.28 ,  -8.861,  -9.123,  -0.865,  -8.753,\n",
       "         -4.769,  -7.145,  -8.334,  -1.907,   0.   ,   0.   ,   0.   ,\n",
       "         -7.51 ,  -4.393,   0.   ,   0.   ,  -6.93 ,  -5.677,   0.   ,\n",
       "          0.   ,   0.   ,   0.   ,   0.   ,   0.   ,   0.   ,   0.   ,\n",
       "          0.   ,   0.   ,   0.   ,   0.   ,  -7.2  ,   0.   ,   0.   ,\n",
       "         -4.843,  -7.502,  -4.501,   0.   ,  -7.112,  -6.956,  -4.371,\n",
       "          0.   ,   0.   ,   0.   ,  -6.077,  -5.261,   0.   ,   0.   ,\n",
       "          0.   ,  -6.801],\n",
       "       [ -5.688,   0.   ,   0.   ,   0.   ,   0.   ,   0.   ,   0.   ,\n",
       "          0.   ,   0.   ,   0.   ,   0.   ,   0.   ,  -4.775,   0.   ,\n",
       "          0.   ,   0.   ,  -1.861,   0.   ,  -1.701,   0.   ,   0.   ,\n",
       "          0.   ,   0.   ,   0.   ,  -5.954,  -7.592,  -7.154,  65.31 ,\n",
       "         16.941,   0.   ,   0.   ,   0.   ,   0.   ,  28.09 ,  28.477,\n",
       "         29.352,  28.3  ,   0.   ,   0.   ,   0.   ,  41.326,   0.   ,\n",
       "          0.   ,   0.   ,   0.   ,   0.   ,   0.   ,   0.   ,   0.   ,\n",
       "         29.576,  25.2  ,  22.965,  23.486,  25.173,  18.279,  28.166,\n",
       "         25.08 ,  29.681,  26.8  , -11.911,   0.   ,   0.   ,   0.   ,\n",
       "         28.205,  25.203,   0.   ,   0.   ,  23.719,  25.21 ,   0.   ,\n",
       "          0.   ,   0.   ,   0.   ,   0.   ,   0.   ,   0.   ,   0.   ,\n",
       "          0.   ,   0.   ,   0.   ,   0.   ,  30.55 ,   0.   ,   0.   ,\n",
       "         24.554,  21.663,  22.093,   0.   ,  22.176,  21.491,  24.113,\n",
       "          0.   ,   0.   ,   0.   ,  28.618,  26.029,   0.   ,   0.   ,\n",
       "          0.   ,  22.561],\n",
       "       [ -9.343,   0.   ,   0.   ,   0.   ,   0.   ,   0.   ,   0.   ,\n",
       "          0.   ,   0.   ,   0.   ,   0.   ,   0.   , -10.823,   0.   ,\n",
       "          0.   ,   0.   ,  -7.213,   0.   ,  -8.832,   0.   ,   0.   ,\n",
       "          0.   ,   0.   ,   0.   ,  -8.833,  -9.829,  -8.055,  25.907,\n",
       "         14.572,   0.   ,   0.   ,   0.   ,   0.   ,  22.49 ,  14.219,\n",
       "         20.303,  23.599,   0.   ,   0.   ,   0.   ,  48.099,   0.   ,\n",
       "          0.   ,   0.   ,   0.   ,   0.   ,   0.   ,   0.   ,   0.   ,\n",
       "         22.802,  21.488,  25.867,  23.842,  22.227,  14.07 ,  15.296,\n",
       "         17.779,   9.783,  22.484, -12.148,   0.   ,   0.   ,   0.   ,\n",
       "         23.333,  14.288,   0.   ,   0.   ,  24.03 ,  22.937,   0.   ,\n",
       "          0.   ,   0.   ,   0.   ,   0.   ,   0.   ,   0.   ,   0.   ,\n",
       "          0.   ,   0.   ,   0.   ,   0.   ,  21.931,   0.   ,   0.   ,\n",
       "         18.698,  19.353,  10.926,   0.   ,  17.63 ,  11.125,  11.87 ,\n",
       "          0.   ,   0.   ,   0.   ,  17.839,  15.569,   0.   ,   0.   ,\n",
       "          0.   ,  19.595],\n",
       "       [ -6.798,   0.   ,   0.   ,   0.   ,   0.   ,   0.   ,   0.   ,\n",
       "          0.   ,   0.   ,   0.   ,   0.   ,   0.   ,  -5.54 ,   0.   ,\n",
       "          0.   ,   0.   ,   1.486,   0.   ,   0.701,   0.   ,   0.   ,\n",
       "          0.   ,   0.   ,   0.   ,  -4.617,  -4.648,  -7.76 ,  41.151,\n",
       "         48.131,   0.   ,   0.   ,   0.   ,   0.   ,  43.285,  43.89 ,\n",
       "         42.757,  40.819,   0.   ,   0.   ,   0.   ,  37.33 ,   0.   ,\n",
       "          0.   ,   0.   ,   0.   ,   0.   ,   0.   ,   0.   ,   0.   ,\n",
       "         40.861,  42.13 ,  39.365,  44.051,  48.453,  40.03 ,  61.967,\n",
       "         61.952,  66.645,  38.692,  -7.03 ,   0.   ,   0.   ,   0.   ,\n",
       "         38.609,  39.766,   0.   ,   0.   ,  47.579,  45.056,   0.   ,\n",
       "          0.   ,   0.   ,   0.   ,   0.   ,   0.   ,   0.   ,   0.   ,\n",
       "          0.   ,   0.   ,   0.   ,   0.   ,  46.936,   0.   ,   0.   ,\n",
       "         42.574,  46.674,  47.388,   0.   ,  46.452,  44.693,  45.136,\n",
       "          0.   ,   0.   ,   0.   ,  39.054,  40.215,   0.   ,   0.   ,\n",
       "          0.   ,  40.95 ],\n",
       "       [  2.688,   0.   ,   0.   ,   0.   ,   0.   ,   0.   ,   0.   ,\n",
       "          0.   ,   0.   ,   0.   ,   0.   ,   0.   ,   3.163,   0.   ,\n",
       "          0.   ,   0.   ,   2.583,   0.   ,   6.46 ,   0.   ,   0.   ,\n",
       "          0.   ,   0.   ,   0.   ,   8.426,   1.898,   5.726, -10.792,\n",
       "          1.363,   0.   ,   0.   ,   0.   ,   0.   ,  -8.505,  -8.243,\n",
       "         -6.025,  -3.099,   0.   ,   0.   ,   0.   ,  -8.355,   0.   ,\n",
       "          0.   ,   0.   ,   0.   ,   0.   ,   0.   ,   0.   ,   0.   ,\n",
       "         -7.765,  -3.854,  -6.675,  -6.353,  -8.305,   6.528,  -5.119,\n",
       "         -4.875,  -3.44 ,  -7.94 ,  81.385,   0.   ,   0.   ,   0.   ,\n",
       "         -4.944,  -8.433,   0.   ,   0.   ,  -4.901,  -4.705,   0.   ,\n",
       "          0.   ,   0.   ,   0.   ,   0.   ,   0.   ,   0.   ,   0.   ,\n",
       "          0.   ,   0.   ,   0.   ,   0.   ,  -3.977,   0.   ,   0.   ,\n",
       "         -7.599,  -6.456,  -4.284,   0.   ,  -7.667,  -8.184,  -4.271,\n",
       "          0.   ,   0.   ,   0.   ,  -7.412,  -6.032,   0.   ,   0.   ,\n",
       "          0.   ,  -7.767],\n",
       "       [ -6.489,   0.   ,   0.   ,   0.   ,   0.   ,   0.   ,   0.   ,\n",
       "          0.   ,   0.   ,   0.   ,   0.   ,   0.   ,  -7.196,   0.   ,\n",
       "          0.   ,   0.   ,  -7.979,   0.   ,  -5.883,   0.   ,   0.   ,\n",
       "          0.   ,   0.   ,   0.   ,  -5.545,  -8.413,  -7.771,  44.476,\n",
       "         30.118,   0.   ,   0.   ,   0.   ,   0.   ,  27.928,  32.656,\n",
       "         34.797,  33.754,   0.   ,   0.   ,   0.   ,  35.518,   0.   ,\n",
       "          0.   ,   0.   ,   0.   ,   0.   ,   0.   ,   0.   ,   0.   ,\n",
       "         33.738,  36.036,  34.718,  37.847,  38.402,  25.558,  33.481,\n",
       "         33.915,  38.149,  37.91 , -12.837,   0.   ,   0.   ,   0.   ,\n",
       "         36.767,  52.838,   0.   ,   0.   ,  44.964,  39.912,   0.   ,\n",
       "          0.   ,   0.   ,   0.   ,   0.   ,   0.   ,   0.   ,   0.   ,\n",
       "          0.   ,   0.   ,   0.   ,   0.   ,  37.394,   0.   ,   0.   ,\n",
       "         31.575,  32.445,  29.552,   0.   ,  32.817,  34.259,  29.836,\n",
       "          0.   ,   0.   ,   0.   ,  30.901,  30.591,   0.   ,   0.   ,\n",
       "          0.   ,  29.161]])"
      ]
     },
     "execution_count": 188,
     "metadata": {},
     "output_type": "execute_result"
    }
   ],
   "source": [
    "similarities[similarity_indices_to_keep]"
   ]
  },
  {
   "cell_type": "code",
   "execution_count": 180,
   "metadata": {},
   "outputs": [
    {
     "data": {
      "text/plain": [
       "array([[ 79.624,  -9.607,  -9.58 ,  -8.753,  -1.907,  -4.393],\n",
       "       [ -7.592,  65.31 ,  41.326,  28.166, -11.911,  25.203],\n",
       "       [ -9.829,  25.907,  48.099,  15.296, -12.148,  14.288],\n",
       "       [ -4.648,  41.151,  37.33 ,  61.967,  -7.03 ,  39.766],\n",
       "       [  1.898, -10.792,  -8.355,  -5.119,  81.385,  -8.433],\n",
       "       [ -8.413,  44.476,  35.518,  33.481, -12.837,  52.838]])"
      ]
     },
     "execution_count": 180,
     "metadata": {},
     "output_type": "execute_result"
    }
   ],
   "source": [
    "similarities[similarity_indices_to_keep, :][:, similarity_indices_to_keep]"
   ]
  },
  {
   "cell_type": "code",
   "execution_count": 181,
   "metadata": {},
   "outputs": [
    {
     "data": {
      "text/plain": [
       "array([[ 79.624,  -9.607,  -9.58 ,  -8.753,  -1.907,  -4.393],\n",
       "       [ -7.592,  65.31 ,  41.326,  28.166, -11.911,  25.203],\n",
       "       [ -9.829,  25.907,  48.099,  15.296, -12.148,  14.288],\n",
       "       [ -4.648,  41.151,  37.33 ,  61.967,  -7.03 ,  39.766],\n",
       "       [  1.898, -10.792,  -8.355,  -5.119,  81.385,  -8.433],\n",
       "       [ -8.413,  44.476,  35.518,  33.481, -12.837,  52.838]])"
      ]
     },
     "execution_count": 181,
     "metadata": {},
     "output_type": "execute_result"
    }
   ],
   "source": [
    "similarities_specific_to_conditions"
   ]
  },
  {
   "cell_type": "code",
   "execution_count": 182,
   "metadata": {},
   "outputs": [
    {
     "name": "stdout",
     "output_type": "stream",
     "text": [
      "(6, 6)\n"
     ]
    }
   ],
   "source": [
    "similarities_specific_to_conditions = similarities[similarity_indices_to_keep, :]\n",
    "similarities_specific_to_conditions = similarities_specific_to_conditions[:, similarity_indices_to_keep]\n",
    "print(similarities_specific_to_conditions.shape)\n",
    "\n",
    "assert len(similarity_indices_to_keep)==len(label_indices_to_keep), \"number of labels and similarities mismatch\""
   ]
  },
  {
   "cell_type": "code",
   "execution_count": 183,
   "metadata": {},
   "outputs": [
    {
     "name": "stdout",
     "output_type": "stream",
     "text": [
      "processed: 0\n"
     ]
    },
    {
     "name": "stderr",
     "output_type": "stream",
     "text": [
      "/opt/sw/spack/apps/linux-rhel8-x86_64_v2/gcc-10.3.0/python-3.9.9-jh/lib/python3.9/site-packages/sklearn/metrics/_ranking.py:1007: UndefinedMetricWarning: No negative samples in y_true, false positive value should be meaningless\n",
      "  warnings.warn(\n",
      "/opt/sw/spack/apps/linux-rhel8-x86_64_v2/gcc-10.3.0/python-3.9.9-jh/lib/python3.9/site-packages/sklearn/metrics/_ranking.py:1007: UndefinedMetricWarning: No negative samples in y_true, false positive value should be meaningless\n",
      "  warnings.warn(\n",
      "/opt/sw/spack/apps/linux-rhel8-x86_64_v2/gcc-10.3.0/python-3.9.9-jh/lib/python3.9/site-packages/sklearn/metrics/_ranking.py:1007: UndefinedMetricWarning: No negative samples in y_true, false positive value should be meaningless\n",
      "  warnings.warn(\n",
      "/opt/sw/spack/apps/linux-rhel8-x86_64_v2/gcc-10.3.0/python-3.9.9-jh/lib/python3.9/site-packages/sklearn/metrics/_ranking.py:1007: UndefinedMetricWarning: No negative samples in y_true, false positive value should be meaningless\n",
      "  warnings.warn(\n",
      "/opt/sw/spack/apps/linux-rhel8-x86_64_v2/gcc-10.3.0/python-3.9.9-jh/lib/python3.9/site-packages/sklearn/metrics/_ranking.py:1007: UndefinedMetricWarning: No negative samples in y_true, false positive value should be meaningless\n",
      "  warnings.warn(\n",
      "/opt/sw/spack/apps/linux-rhel8-x86_64_v2/gcc-10.3.0/python-3.9.9-jh/lib/python3.9/site-packages/sklearn/metrics/_ranking.py:1007: UndefinedMetricWarning: No negative samples in y_true, false positive value should be meaningless\n",
      "  warnings.warn(\n"
     ]
    }
   ],
   "source": [
    "# computing results per query\n",
    "n_queries = labels_specific_to_conditions.shape[0]\n",
    "results = []\n",
    "for query_id in range(n_queries):\n",
    "    # query_id = 50\n",
    "    mask = labels_specific_to_conditions[query_id] != -1\n",
    "\n",
    "    n_true_pos = (labels_specific_to_conditions[query_id]==1).sum()\n",
    "    n_true_neg = (labels_specific_to_conditions[query_id]==0).sum()\n",
    "    y_true, y_pred = labels_specific_to_conditions[query_id][mask], similarities_specific_to_conditions[query_id][mask]\n",
    "\n",
    "    assert mask.sum()==labels_specific_to_conditions[query_id][mask].shape[0]==similarities_specific_to_conditions[query_id][mask].shape[0], f\"mask did not match for {query_id: sid2int_dict[query_id]}\"\n",
    "\n",
    "    auroc = compute_auroc(y_true, y_pred) # same as roc_auc_score(y_true, y_pred)\n",
    "    auprc = compute_auprc(y_true, y_pred)\n",
    "    hit1 = compute_hitk(y_true, y_pred, k=1)\n",
    "    hit10 = compute_hitk(y_true, y_pred, k=10)\n",
    "    # print(auroc, auprc, hit10, n_true_pos, n_true_neg)\n",
    "\n",
    "    data_point = dict(sid=remhom_int2sid_dict[query_id], auroc=auroc, auprc=auprc, hit1=hit1, hit10=hit10, n_true_pos=n_true_pos, n_true_neg=n_true_neg)\n",
    "    results.append(data_point)\n",
    "\n",
    "    # break\n",
    "    # if query_id==50: break\n",
    "\n",
    "    if query_id%1000==0: \n",
    "        print(f\"processed: {query_id}\")\n",
    "\n",
    "results_df = pd.DataFrame.from_dict(results)"
   ]
  },
  {
   "cell_type": "code",
   "execution_count": 184,
   "metadata": {},
   "outputs": [
    {
     "data": {
      "text/plain": [
       "array([-8.413])"
      ]
     },
     "execution_count": 184,
     "metadata": {},
     "output_type": "execute_result"
    }
   ],
   "source": [
    "similarities_specific_to_conditions[query_id][mask]"
   ]
  },
  {
   "cell_type": "code",
   "execution_count": 153,
   "metadata": {},
   "outputs": [
    {
     "data": {
      "text/plain": [
       "array([ -8.413,  44.476,  35.518,  33.481, -12.837,  52.838])"
      ]
     },
     "execution_count": 153,
     "metadata": {},
     "output_type": "execute_result"
    }
   ],
   "source": [
    "np.array(similarities_specific_to_conditions)[query_id]"
   ]
  },
  {
   "cell_type": "code",
   "execution_count": 154,
   "metadata": {},
   "outputs": [
    {
     "data": {
      "text/plain": [
       "'d2gkma_'"
      ]
     },
     "execution_count": 154,
     "metadata": {},
     "output_type": "execute_result"
    }
   ],
   "source": [
    "int2sid_dict[0]"
   ]
  },
  {
   "cell_type": "code",
   "execution_count": null,
   "metadata": {},
   "outputs": [],
   "source": []
  },
  {
   "cell_type": "code",
   "execution_count": 155,
   "metadata": {},
   "outputs": [
    {
     "data": {
      "text/html": [
       "<div>\n",
       "<style scoped>\n",
       "    .dataframe tbody tr th:only-of-type {\n",
       "        vertical-align: middle;\n",
       "    }\n",
       "\n",
       "    .dataframe tbody tr th {\n",
       "        vertical-align: top;\n",
       "    }\n",
       "\n",
       "    .dataframe thead th {\n",
       "        text-align: right;\n",
       "    }\n",
       "</style>\n",
       "<table border=\"1\" class=\"dataframe\">\n",
       "  <thead>\n",
       "    <tr style=\"text-align: right;\">\n",
       "      <th></th>\n",
       "      <th>Unnamed: 0</th>\n",
       "      <th>sid</th>\n",
       "      <th>sccs</th>\n",
       "      <th>span</th>\n",
       "      <th>sequence</th>\n",
       "      <th>SF</th>\n",
       "      <th>fold</th>\n",
       "      <th>sequence_len</th>\n",
       "      <th>remote_homologs</th>\n",
       "      <th>SF_count</th>\n",
       "    </tr>\n",
       "  </thead>\n",
       "  <tbody>\n",
       "    <tr>\n",
       "      <th>0</th>\n",
       "      <td>0</td>\n",
       "      <td>d2gkma_</td>\n",
       "      <td>a.1.1.1</td>\n",
       "      <td>(A:)</td>\n",
       "      <td>gllsrlrkrepisiydkiggheaievvvedffvrvladdqlsaffs...</td>\n",
       "      <td>a.1.1</td>\n",
       "      <td>a.1</td>\n",
       "      <td>127</td>\n",
       "      <td>['d1asha_', 'd1vhba_', 'd4vhba_', 'd2vhba_', '...</td>\n",
       "      <td>714</td>\n",
       "    </tr>\n",
       "    <tr>\n",
       "      <th>1</th>\n",
       "      <td>1</td>\n",
       "      <td>d2gkmb_</td>\n",
       "      <td>a.1.1.1</td>\n",
       "      <td>(B:)</td>\n",
       "      <td>gllsrlrkrepisiydkiggheaievvvedffvrvladdqlsaffs...</td>\n",
       "      <td>a.1.1</td>\n",
       "      <td>a.1</td>\n",
       "      <td>126</td>\n",
       "      <td>['d1asha_', 'd1vhba_', 'd4vhba_', 'd2vhba_', '...</td>\n",
       "      <td>714</td>\n",
       "    </tr>\n",
       "    <tr>\n",
       "      <th>2</th>\n",
       "      <td>2</td>\n",
       "      <td>d2gl3a_</td>\n",
       "      <td>a.1.1.1</td>\n",
       "      <td>(A:)</td>\n",
       "      <td>gllsrlrkrepisiydkiggheaievvvedffvrvladdqlsaffs...</td>\n",
       "      <td>a.1.1</td>\n",
       "      <td>a.1</td>\n",
       "      <td>128</td>\n",
       "      <td>['d1asha_', 'd1vhba_', 'd4vhba_', 'd2vhba_', '...</td>\n",
       "      <td>714</td>\n",
       "    </tr>\n",
       "    <tr>\n",
       "      <th>3</th>\n",
       "      <td>3</td>\n",
       "      <td>d2gl3b_</td>\n",
       "      <td>a.1.1.1</td>\n",
       "      <td>(B:)</td>\n",
       "      <td>gllsrlrkrepisiydkiggheaievvvedffvrvladdqlsaffs...</td>\n",
       "      <td>a.1.1</td>\n",
       "      <td>a.1</td>\n",
       "      <td>127</td>\n",
       "      <td>['d1asha_', 'd1vhba_', 'd4vhba_', 'd2vhba_', '...</td>\n",
       "      <td>714</td>\n",
       "    </tr>\n",
       "    <tr>\n",
       "      <th>4</th>\n",
       "      <td>4</td>\n",
       "      <td>d1idra_</td>\n",
       "      <td>a.1.1.1</td>\n",
       "      <td>(A:)</td>\n",
       "      <td>gllsrlrkrepisiydkiggheaievvvedfyvrvladdqlsaffs...</td>\n",
       "      <td>a.1.1</td>\n",
       "      <td>a.1</td>\n",
       "      <td>127</td>\n",
       "      <td>['d1asha_', 'd1vhba_', 'd4vhba_', 'd2vhba_', '...</td>\n",
       "      <td>714</td>\n",
       "    </tr>\n",
       "    <tr>\n",
       "      <th>...</th>\n",
       "      <td>...</td>\n",
       "      <td>...</td>\n",
       "      <td>...</td>\n",
       "      <td>...</td>\n",
       "      <td>...</td>\n",
       "      <td>...</td>\n",
       "      <td>...</td>\n",
       "      <td>...</td>\n",
       "      <td>...</td>\n",
       "      <td>...</td>\n",
       "    </tr>\n",
       "    <tr>\n",
       "      <th>95</th>\n",
       "      <td>95</td>\n",
       "      <td>d3n48a_</td>\n",
       "      <td>a.1.1.2</td>\n",
       "      <td>(A:)</td>\n",
       "      <td>vlspadktnikstwdkigghagdyggealdrtfqsfpttktyfphf...</td>\n",
       "      <td>a.1.1</td>\n",
       "      <td>a.1</td>\n",
       "      <td>141</td>\n",
       "      <td>['d2gkma_', 'd2gkmb_', 'd2gl3a_', 'd2gl3b_', '...</td>\n",
       "      <td>714</td>\n",
       "    </tr>\n",
       "    <tr>\n",
       "      <th>96</th>\n",
       "      <td>96</td>\n",
       "      <td>d1s0ha1</td>\n",
       "      <td>a.1.1.2</td>\n",
       "      <td>(A:1-141)</td>\n",
       "      <td>vlsaadktnvkaawskvggnagefgaealermflgfpttktyfphf...</td>\n",
       "      <td>a.1.1</td>\n",
       "      <td>a.1</td>\n",
       "      <td>141</td>\n",
       "      <td>['d2gkma_', 'd2gkmb_', 'd2gl3a_', 'd2gl3b_', '...</td>\n",
       "      <td>714</td>\n",
       "    </tr>\n",
       "    <tr>\n",
       "      <th>97</th>\n",
       "      <td>97</td>\n",
       "      <td>d2b7hb1</td>\n",
       "      <td>a.1.1.2</td>\n",
       "      <td>(B:2-145)</td>\n",
       "      <td>hltaeekslvsglwakvnvdevggealgrllivypwtqrffdsfgd...</td>\n",
       "      <td>a.1.1</td>\n",
       "      <td>a.1</td>\n",
       "      <td>144</td>\n",
       "      <td>['d2gkma_', 'd2gkmb_', 'd2gl3a_', 'd2gl3b_', '...</td>\n",
       "      <td>714</td>\n",
       "    </tr>\n",
       "    <tr>\n",
       "      <th>98</th>\n",
       "      <td>98</td>\n",
       "      <td>d2h8fa_</td>\n",
       "      <td>a.1.1.2</td>\n",
       "      <td>(A:)</td>\n",
       "      <td>slsdkdkaavralwskigksadaigndalsrmivvypqtktyfshw...</td>\n",
       "      <td>a.1.1</td>\n",
       "      <td>a.1</td>\n",
       "      <td>142</td>\n",
       "      <td>['d2gkma_', 'd2gkmb_', 'd2gl3a_', 'd2gl3b_', '...</td>\n",
       "      <td>714</td>\n",
       "    </tr>\n",
       "    <tr>\n",
       "      <th>99</th>\n",
       "      <td>99</td>\n",
       "      <td>d1spga_</td>\n",
       "      <td>a.1.1.2</td>\n",
       "      <td>(A:)</td>\n",
       "      <td>slsatdkarvkalwdkiegksaelgaealgrmlvsfpqtkiyfsew...</td>\n",
       "      <td>a.1.1</td>\n",
       "      <td>a.1</td>\n",
       "      <td>143</td>\n",
       "      <td>['d2gkma_', 'd2gkmb_', 'd2gl3a_', 'd2gl3b_', '...</td>\n",
       "      <td>714</td>\n",
       "    </tr>\n",
       "  </tbody>\n",
       "</table>\n",
       "<p>100 rows × 10 columns</p>\n",
       "</div>"
      ],
      "text/plain": [
       "    Unnamed: 0      sid     sccs       span  \\\n",
       "0            0  d2gkma_  a.1.1.1       (A:)   \n",
       "1            1  d2gkmb_  a.1.1.1       (B:)   \n",
       "2            2  d2gl3a_  a.1.1.1       (A:)   \n",
       "3            3  d2gl3b_  a.1.1.1       (B:)   \n",
       "4            4  d1idra_  a.1.1.1       (A:)   \n",
       "..         ...      ...      ...        ...   \n",
       "95          95  d3n48a_  a.1.1.2       (A:)   \n",
       "96          96  d1s0ha1  a.1.1.2  (A:1-141)   \n",
       "97          97  d2b7hb1  a.1.1.2  (B:2-145)   \n",
       "98          98  d2h8fa_  a.1.1.2       (A:)   \n",
       "99          99  d1spga_  a.1.1.2       (A:)   \n",
       "\n",
       "                                             sequence     SF fold  \\\n",
       "0   gllsrlrkrepisiydkiggheaievvvedffvrvladdqlsaffs...  a.1.1  a.1   \n",
       "1   gllsrlrkrepisiydkiggheaievvvedffvrvladdqlsaffs...  a.1.1  a.1   \n",
       "2   gllsrlrkrepisiydkiggheaievvvedffvrvladdqlsaffs...  a.1.1  a.1   \n",
       "3   gllsrlrkrepisiydkiggheaievvvedffvrvladdqlsaffs...  a.1.1  a.1   \n",
       "4   gllsrlrkrepisiydkiggheaievvvedfyvrvladdqlsaffs...  a.1.1  a.1   \n",
       "..                                                ...    ...  ...   \n",
       "95  vlspadktnikstwdkigghagdyggealdrtfqsfpttktyfphf...  a.1.1  a.1   \n",
       "96  vlsaadktnvkaawskvggnagefgaealermflgfpttktyfphf...  a.1.1  a.1   \n",
       "97  hltaeekslvsglwakvnvdevggealgrllivypwtqrffdsfgd...  a.1.1  a.1   \n",
       "98  slsdkdkaavralwskigksadaigndalsrmivvypqtktyfshw...  a.1.1  a.1   \n",
       "99  slsatdkarvkalwdkiegksaelgaealgrmlvsfpqtkiyfsew...  a.1.1  a.1   \n",
       "\n",
       "    sequence_len                                    remote_homologs  SF_count  \n",
       "0            127  ['d1asha_', 'd1vhba_', 'd4vhba_', 'd2vhba_', '...       714  \n",
       "1            126  ['d1asha_', 'd1vhba_', 'd4vhba_', 'd2vhba_', '...       714  \n",
       "2            128  ['d1asha_', 'd1vhba_', 'd4vhba_', 'd2vhba_', '...       714  \n",
       "3            127  ['d1asha_', 'd1vhba_', 'd4vhba_', 'd2vhba_', '...       714  \n",
       "4            127  ['d1asha_', 'd1vhba_', 'd4vhba_', 'd2vhba_', '...       714  \n",
       "..           ...                                                ...       ...  \n",
       "95           141  ['d2gkma_', 'd2gkmb_', 'd2gl3a_', 'd2gl3b_', '...       714  \n",
       "96           141  ['d2gkma_', 'd2gkmb_', 'd2gl3a_', 'd2gl3b_', '...       714  \n",
       "97           144  ['d2gkma_', 'd2gkmb_', 'd2gl3a_', 'd2gl3b_', '...       714  \n",
       "98           142  ['d2gkma_', 'd2gkmb_', 'd2gl3a_', 'd2gl3b_', '...       714  \n",
       "99           143  ['d2gkma_', 'd2gkmb_', 'd2gl3a_', 'd2gl3b_', '...       714  \n",
       "\n",
       "[100 rows x 10 columns]"
      ]
     },
     "execution_count": 155,
     "metadata": {},
     "output_type": "execute_result"
    }
   ],
   "source": [
    "data_df"
   ]
  },
  {
   "cell_type": "code",
   "execution_count": 156,
   "metadata": {},
   "outputs": [
    {
     "data": {
      "text/plain": [
       "array([ 1, -1, -1, -1, -1, -1])"
      ]
     },
     "execution_count": 156,
     "metadata": {},
     "output_type": "execute_result"
    }
   ],
   "source": [
    "labels_specific_to_conditions[1]"
   ]
  },
  {
   "cell_type": "code",
   "execution_count": 189,
   "metadata": {},
   "outputs": [
    {
     "data": {
      "text/plain": [
       "1"
      ]
     },
     "execution_count": 189,
     "metadata": {},
     "output_type": "execute_result"
    }
   ],
   "source": [
    "n_true_pos"
   ]
  },
  {
   "cell_type": "code",
   "execution_count": 158,
   "metadata": {},
   "outputs": [
    {
     "name": "stdout",
     "output_type": "stream",
     "text": [
      "#-queries of no true positives:  0\n"
     ]
    }
   ],
   "source": [
    "# removing queries that have no true positives\n",
    "print(\"#-queries of no true positives: \", results_df[results_df[\"n_true_pos\"]==0].shape[0])\n",
    "filtered_results_df = results_df[results_df[\"n_true_pos\"]!=0]"
   ]
  },
  {
   "cell_type": "code",
   "execution_count": 159,
   "metadata": {},
   "outputs": [
    {
     "data": {
      "text/html": [
       "<div>\n",
       "<style scoped>\n",
       "    .dataframe tbody tr th:only-of-type {\n",
       "        vertical-align: middle;\n",
       "    }\n",
       "\n",
       "    .dataframe tbody tr th {\n",
       "        vertical-align: top;\n",
       "    }\n",
       "\n",
       "    .dataframe thead th {\n",
       "        text-align: right;\n",
       "    }\n",
       "</style>\n",
       "<table border=\"1\" class=\"dataframe\">\n",
       "  <thead>\n",
       "    <tr style=\"text-align: right;\">\n",
       "      <th></th>\n",
       "      <th>index</th>\n",
       "      <th>auroc</th>\n",
       "      <th>auprc</th>\n",
       "      <th>hit1</th>\n",
       "      <th>hit10</th>\n",
       "      <th>n_true_pos</th>\n",
       "      <th>n_true_neg</th>\n",
       "    </tr>\n",
       "  </thead>\n",
       "  <tbody>\n",
       "    <tr>\n",
       "      <th>0</th>\n",
       "      <td>count</td>\n",
       "      <td>0.0</td>\n",
       "      <td>6.0</td>\n",
       "      <td>6.0</td>\n",
       "      <td>6.0</td>\n",
       "      <td>6.000000</td>\n",
       "      <td>6.0</td>\n",
       "    </tr>\n",
       "    <tr>\n",
       "      <th>1</th>\n",
       "      <td>mean</td>\n",
       "      <td>NaN</td>\n",
       "      <td>1.0</td>\n",
       "      <td>1.0</td>\n",
       "      <td>1.0</td>\n",
       "      <td>1.666667</td>\n",
       "      <td>0.0</td>\n",
       "    </tr>\n",
       "    <tr>\n",
       "      <th>2</th>\n",
       "      <td>std</td>\n",
       "      <td>NaN</td>\n",
       "      <td>0.0</td>\n",
       "      <td>0.0</td>\n",
       "      <td>0.0</td>\n",
       "      <td>1.632993</td>\n",
       "      <td>0.0</td>\n",
       "    </tr>\n",
       "    <tr>\n",
       "      <th>3</th>\n",
       "      <td>min</td>\n",
       "      <td>NaN</td>\n",
       "      <td>1.0</td>\n",
       "      <td>1.0</td>\n",
       "      <td>1.0</td>\n",
       "      <td>1.000000</td>\n",
       "      <td>0.0</td>\n",
       "    </tr>\n",
       "    <tr>\n",
       "      <th>4</th>\n",
       "      <td>25%</td>\n",
       "      <td>NaN</td>\n",
       "      <td>1.0</td>\n",
       "      <td>1.0</td>\n",
       "      <td>1.0</td>\n",
       "      <td>1.000000</td>\n",
       "      <td>0.0</td>\n",
       "    </tr>\n",
       "    <tr>\n",
       "      <th>5</th>\n",
       "      <td>50%</td>\n",
       "      <td>NaN</td>\n",
       "      <td>1.0</td>\n",
       "      <td>1.0</td>\n",
       "      <td>1.0</td>\n",
       "      <td>1.000000</td>\n",
       "      <td>0.0</td>\n",
       "    </tr>\n",
       "    <tr>\n",
       "      <th>6</th>\n",
       "      <td>75%</td>\n",
       "      <td>NaN</td>\n",
       "      <td>1.0</td>\n",
       "      <td>1.0</td>\n",
       "      <td>1.0</td>\n",
       "      <td>1.000000</td>\n",
       "      <td>0.0</td>\n",
       "    </tr>\n",
       "    <tr>\n",
       "      <th>7</th>\n",
       "      <td>max</td>\n",
       "      <td>NaN</td>\n",
       "      <td>1.0</td>\n",
       "      <td>1.0</td>\n",
       "      <td>1.0</td>\n",
       "      <td>5.000000</td>\n",
       "      <td>0.0</td>\n",
       "    </tr>\n",
       "  </tbody>\n",
       "</table>\n",
       "</div>"
      ],
      "text/plain": [
       "   index  auroc  auprc  hit1  hit10  n_true_pos  n_true_neg\n",
       "0  count    0.0    6.0   6.0    6.0    6.000000         6.0\n",
       "1   mean    NaN    1.0   1.0    1.0    1.666667         0.0\n",
       "2    std    NaN    0.0   0.0    0.0    1.632993         0.0\n",
       "3    min    NaN    1.0   1.0    1.0    1.000000         0.0\n",
       "4    25%    NaN    1.0   1.0    1.0    1.000000         0.0\n",
       "5    50%    NaN    1.0   1.0    1.0    1.000000         0.0\n",
       "6    75%    NaN    1.0   1.0    1.0    1.000000         0.0\n",
       "7    max    NaN    1.0   1.0    1.0    5.000000         0.0"
      ]
     },
     "execution_count": 159,
     "metadata": {},
     "output_type": "execute_result"
    }
   ],
   "source": [
    "# non-weighted summary result of superfamily/fold level homology ranking\n",
    "non_weighted_results_df = filtered_results_df.drop(columns=[\"sid\"]).describe().reset_index()\n",
    "non_weighted_results_df"
   ]
  },
  {
   "cell_type": "code",
   "execution_count": 160,
   "metadata": {},
   "outputs": [
    {
     "data": {
      "text/html": [
       "<div>\n",
       "<style scoped>\n",
       "    .dataframe tbody tr th:only-of-type {\n",
       "        vertical-align: middle;\n",
       "    }\n",
       "\n",
       "    .dataframe tbody tr th {\n",
       "        vertical-align: top;\n",
       "    }\n",
       "\n",
       "    .dataframe thead th {\n",
       "        text-align: right;\n",
       "    }\n",
       "</style>\n",
       "<table border=\"1\" class=\"dataframe\">\n",
       "  <thead>\n",
       "    <tr style=\"text-align: right;\">\n",
       "      <th></th>\n",
       "      <th>sid</th>\n",
       "      <th>auroc</th>\n",
       "      <th>auprc</th>\n",
       "      <th>hit1</th>\n",
       "      <th>hit10</th>\n",
       "      <th>n_true_pos</th>\n",
       "      <th>n_true_neg</th>\n",
       "      <th>span</th>\n",
       "      <th>sccs</th>\n",
       "      <th>cls_label</th>\n",
       "      <th>fold</th>\n",
       "      <th>superfamily</th>\n",
       "      <th>family</th>\n",
       "      <th>description</th>\n",
       "      <th>seq_len</th>\n",
       "    </tr>\n",
       "  </thead>\n",
       "  <tbody>\n",
       "    <tr>\n",
       "      <th>0</th>\n",
       "      <td>d4i0va_</td>\n",
       "      <td>NaN</td>\n",
       "      <td>1.0</td>\n",
       "      <td>1</td>\n",
       "      <td>1</td>\n",
       "      <td>5</td>\n",
       "      <td>0</td>\n",
       "      <td>(A:)</td>\n",
       "      <td>a.1.1.1</td>\n",
       "      <td>a</td>\n",
       "      <td>a.1</td>\n",
       "      <td>a.1.1</td>\n",
       "      <td>a.1.1.1</td>\n",
       "      <td>automated matches {Synechococcus sp. [TaxId: 3...</td>\n",
       "      <td>123</td>\n",
       "    </tr>\n",
       "    <tr>\n",
       "      <th>1</th>\n",
       "      <td>d1asha_</td>\n",
       "      <td>NaN</td>\n",
       "      <td>1.0</td>\n",
       "      <td>1</td>\n",
       "      <td>1</td>\n",
       "      <td>1</td>\n",
       "      <td>0</td>\n",
       "      <td>(A:)</td>\n",
       "      <td>a.1.1.2</td>\n",
       "      <td>a</td>\n",
       "      <td>a.1</td>\n",
       "      <td>a.1.1</td>\n",
       "      <td>a.1.1.2</td>\n",
       "      <td>Ascaris hemoglobin, domain 1 {Pig roundworm (A...</td>\n",
       "      <td>147</td>\n",
       "    </tr>\n",
       "    <tr>\n",
       "      <th>2</th>\n",
       "      <td>d4hswa_</td>\n",
       "      <td>NaN</td>\n",
       "      <td>1.0</td>\n",
       "      <td>1</td>\n",
       "      <td>1</td>\n",
       "      <td>1</td>\n",
       "      <td>0</td>\n",
       "      <td>(A:)</td>\n",
       "      <td>a.1.1.2</td>\n",
       "      <td>a</td>\n",
       "      <td>a.1</td>\n",
       "      <td>a.1.1</td>\n",
       "      <td>a.1.1.2</td>\n",
       "      <td>Dehaloperoxidase {Amphitrite ornata [TaxId: 12...</td>\n",
       "      <td>137</td>\n",
       "    </tr>\n",
       "    <tr>\n",
       "      <th>3</th>\n",
       "      <td>d1jl7a_</td>\n",
       "      <td>NaN</td>\n",
       "      <td>1.0</td>\n",
       "      <td>1</td>\n",
       "      <td>1</td>\n",
       "      <td>1</td>\n",
       "      <td>0</td>\n",
       "      <td>(A:)</td>\n",
       "      <td>a.1.1.2</td>\n",
       "      <td>a</td>\n",
       "      <td>a.1</td>\n",
       "      <td>a.1.1</td>\n",
       "      <td>a.1.1.2</td>\n",
       "      <td>Glycera globin {Marine bloodworm (Glycera dibr...</td>\n",
       "      <td>147</td>\n",
       "    </tr>\n",
       "    <tr>\n",
       "      <th>4</th>\n",
       "      <td>d1or4a_</td>\n",
       "      <td>NaN</td>\n",
       "      <td>1.0</td>\n",
       "      <td>1</td>\n",
       "      <td>1</td>\n",
       "      <td>1</td>\n",
       "      <td>0</td>\n",
       "      <td>(A:)</td>\n",
       "      <td>a.1.1.2</td>\n",
       "      <td>a</td>\n",
       "      <td>a.1</td>\n",
       "      <td>a.1.1</td>\n",
       "      <td>a.1.1.2</td>\n",
       "      <td>Heme-based aerotactic transducer HemAT, sensor...</td>\n",
       "      <td>169</td>\n",
       "    </tr>\n",
       "    <tr>\n",
       "      <th>5</th>\n",
       "      <td>d3g46a_</td>\n",
       "      <td>NaN</td>\n",
       "      <td>1.0</td>\n",
       "      <td>1</td>\n",
       "      <td>1</td>\n",
       "      <td>1</td>\n",
       "      <td>0</td>\n",
       "      <td>(A:)</td>\n",
       "      <td>a.1.1.2</td>\n",
       "      <td>a</td>\n",
       "      <td>a.1</td>\n",
       "      <td>a.1.1</td>\n",
       "      <td>a.1.1.2</td>\n",
       "      <td>Hemoglobin I {Ark clam (Scapharca inaequivalvi...</td>\n",
       "      <td>146</td>\n",
       "    </tr>\n",
       "  </tbody>\n",
       "</table>\n",
       "</div>"
      ],
      "text/plain": [
       "       sid  auroc  auprc  hit1  hit10  n_true_pos  n_true_neg  span     sccs  \\\n",
       "0  d4i0va_    NaN    1.0     1      1           5           0  (A:)  a.1.1.1   \n",
       "1  d1asha_    NaN    1.0     1      1           1           0  (A:)  a.1.1.2   \n",
       "2  d4hswa_    NaN    1.0     1      1           1           0  (A:)  a.1.1.2   \n",
       "3  d1jl7a_    NaN    1.0     1      1           1           0  (A:)  a.1.1.2   \n",
       "4  d1or4a_    NaN    1.0     1      1           1           0  (A:)  a.1.1.2   \n",
       "5  d3g46a_    NaN    1.0     1      1           1           0  (A:)  a.1.1.2   \n",
       "\n",
       "  cls_label fold superfamily   family  \\\n",
       "0         a  a.1       a.1.1  a.1.1.1   \n",
       "1         a  a.1       a.1.1  a.1.1.2   \n",
       "2         a  a.1       a.1.1  a.1.1.2   \n",
       "3         a  a.1       a.1.1  a.1.1.2   \n",
       "4         a  a.1       a.1.1  a.1.1.2   \n",
       "5         a  a.1       a.1.1  a.1.1.2   \n",
       "\n",
       "                                         description  seq_len  \n",
       "0  automated matches {Synechococcus sp. [TaxId: 3...      123  \n",
       "1  Ascaris hemoglobin, domain 1 {Pig roundworm (A...      147  \n",
       "2  Dehaloperoxidase {Amphitrite ornata [TaxId: 12...      137  \n",
       "3  Glycera globin {Marine bloodworm (Glycera dibr...      147  \n",
       "4  Heme-based aerotactic transducer HemAT, sensor...      169  \n",
       "5  Hemoglobin I {Ark clam (Scapharca inaequivalvi...      146  "
      ]
     },
     "execution_count": 160,
     "metadata": {},
     "output_type": "execute_result"
    }
   ],
   "source": [
    "\n",
    "# adding other info with results, and removing seq\n",
    "final_results_per_queries_df = filtered_results_df.merge(remote_homologs_df, left_on=\"sid\", right_on=seq_id_col, how=\"left\")\n",
    "final_results_per_queries_df.drop(columns=[\"seq\"], inplace=True)\n",
    "final_results_per_queries_df.reset_index(drop=True, inplace=True)\n",
    "final_results_per_queries_df"
   ]
  },
  {
   "cell_type": "code",
   "execution_count": 161,
   "metadata": {},
   "outputs": [
    {
     "data": {
      "text/html": [
       "<div>\n",
       "<style scoped>\n",
       "    .dataframe tbody tr th:only-of-type {\n",
       "        vertical-align: middle;\n",
       "    }\n",
       "\n",
       "    .dataframe tbody tr th {\n",
       "        vertical-align: top;\n",
       "    }\n",
       "\n",
       "    .dataframe thead th {\n",
       "        text-align: right;\n",
       "    }\n",
       "</style>\n",
       "<table border=\"1\" class=\"dataframe\">\n",
       "  <thead>\n",
       "    <tr style=\"text-align: right;\">\n",
       "      <th></th>\n",
       "      <th>superfamily</th>\n",
       "      <th>sid</th>\n",
       "    </tr>\n",
       "  </thead>\n",
       "  <tbody>\n",
       "    <tr>\n",
       "      <th>0</th>\n",
       "      <td>a.1.1</td>\n",
       "      <td>6</td>\n",
       "    </tr>\n",
       "  </tbody>\n",
       "</table>\n",
       "</div>"
      ],
      "text/plain": [
       "  superfamily  sid\n",
       "0       a.1.1    6"
      ]
     },
     "execution_count": 161,
     "metadata": {},
     "output_type": "execute_result"
    }
   ],
   "source": [
    "n_queries_per_remhomlevel_df = final_results_per_queries_df[[pos_col, \"sid\"]].groupby(by=pos_col).count().reset_index()\n",
    "n_queries_per_remhomlevel_df"
   ]
  },
  {
   "cell_type": "code",
   "execution_count": 190,
   "metadata": {},
   "outputs": [
    {
     "data": {
      "text/html": [
       "<div>\n",
       "<style scoped>\n",
       "    .dataframe tbody tr th:only-of-type {\n",
       "        vertical-align: middle;\n",
       "    }\n",
       "\n",
       "    .dataframe tbody tr th {\n",
       "        vertical-align: top;\n",
       "    }\n",
       "\n",
       "    .dataframe thead th {\n",
       "        text-align: right;\n",
       "    }\n",
       "</style>\n",
       "<table border=\"1\" class=\"dataframe\">\n",
       "  <thead>\n",
       "    <tr style=\"text-align: right;\">\n",
       "      <th></th>\n",
       "      <th>superfamily</th>\n",
       "      <th>auroc</th>\n",
       "      <th>auprc</th>\n",
       "      <th>hit1</th>\n",
       "      <th>hit10</th>\n",
       "      <th>avg_n_true_pos</th>\n",
       "      <th>avg_n_true_neg</th>\n",
       "      <th>n_queries</th>\n",
       "    </tr>\n",
       "  </thead>\n",
       "  <tbody>\n",
       "    <tr>\n",
       "      <th>0</th>\n",
       "      <td>a.1.1</td>\n",
       "      <td>NaN</td>\n",
       "      <td>1.0</td>\n",
       "      <td>1.0</td>\n",
       "      <td>1.0</td>\n",
       "      <td>1.666667</td>\n",
       "      <td>0.0</td>\n",
       "      <td>6</td>\n",
       "    </tr>\n",
       "  </tbody>\n",
       "</table>\n",
       "</div>"
      ],
      "text/plain": [
       "  superfamily  auroc  auprc  hit1  hit10  avg_n_true_pos  avg_n_true_neg  \\\n",
       "0       a.1.1    NaN    1.0   1.0    1.0        1.666667             0.0   \n",
       "\n",
       "   n_queries  \n",
       "0          6  "
      ]
     },
     "execution_count": 190,
     "metadata": {},
     "output_type": "execute_result"
    }
   ],
   "source": [
    "# performance per rem-hom level (superfamily/fold)\n",
    "final_results_per_remhomlevel_df = final_results_per_queries_df[[pos_col, \"auroc\", \"auprc\", \"hit1\", \"hit10\", \"n_true_pos\", \"n_true_neg\"]].groupby(by=pos_col).mean().reset_index()\n",
    "final_results_per_remhomlevel_df.sort_values(pos_col, ascending=True, inplace=True)\n",
    "final_results_per_remhomlevel_df = final_results_per_remhomlevel_df.merge(n_queries_per_remhomlevel_df, on=pos_col)\n",
    "final_results_per_remhomlevel_df.rename(columns={\"n_true_pos\":\"avg_n_true_pos\", \"n_true_neg\": \"avg_n_true_neg\", \"sid\":\"n_queries\"}, inplace=True)\n",
    "final_results_per_remhomlevel_df"
   ]
  },
  {
   "cell_type": "code",
   "execution_count": 191,
   "metadata": {},
   "outputs": [
    {
     "data": {
      "text/html": [
       "<div>\n",
       "<style scoped>\n",
       "    .dataframe tbody tr th:only-of-type {\n",
       "        vertical-align: middle;\n",
       "    }\n",
       "\n",
       "    .dataframe tbody tr th {\n",
       "        vertical-align: top;\n",
       "    }\n",
       "\n",
       "    .dataframe thead th {\n",
       "        text-align: right;\n",
       "    }\n",
       "</style>\n",
       "<table border=\"1\" class=\"dataframe\">\n",
       "  <thead>\n",
       "    <tr style=\"text-align: right;\">\n",
       "      <th></th>\n",
       "      <th>index</th>\n",
       "      <th>auroc</th>\n",
       "      <th>auprc</th>\n",
       "      <th>hit1</th>\n",
       "      <th>hit10</th>\n",
       "      <th>avg_n_true_pos</th>\n",
       "      <th>avg_n_true_neg</th>\n",
       "      <th>n_queries</th>\n",
       "    </tr>\n",
       "  </thead>\n",
       "  <tbody>\n",
       "    <tr>\n",
       "      <th>0</th>\n",
       "      <td>count</td>\n",
       "      <td>0.0</td>\n",
       "      <td>1.0</td>\n",
       "      <td>1.0</td>\n",
       "      <td>1.0</td>\n",
       "      <td>1.000000</td>\n",
       "      <td>1.0</td>\n",
       "      <td>1.0</td>\n",
       "    </tr>\n",
       "    <tr>\n",
       "      <th>1</th>\n",
       "      <td>mean</td>\n",
       "      <td>NaN</td>\n",
       "      <td>1.0</td>\n",
       "      <td>1.0</td>\n",
       "      <td>1.0</td>\n",
       "      <td>1.666667</td>\n",
       "      <td>0.0</td>\n",
       "      <td>6.0</td>\n",
       "    </tr>\n",
       "    <tr>\n",
       "      <th>2</th>\n",
       "      <td>std</td>\n",
       "      <td>NaN</td>\n",
       "      <td>NaN</td>\n",
       "      <td>NaN</td>\n",
       "      <td>NaN</td>\n",
       "      <td>NaN</td>\n",
       "      <td>NaN</td>\n",
       "      <td>NaN</td>\n",
       "    </tr>\n",
       "    <tr>\n",
       "      <th>3</th>\n",
       "      <td>min</td>\n",
       "      <td>NaN</td>\n",
       "      <td>1.0</td>\n",
       "      <td>1.0</td>\n",
       "      <td>1.0</td>\n",
       "      <td>1.666667</td>\n",
       "      <td>0.0</td>\n",
       "      <td>6.0</td>\n",
       "    </tr>\n",
       "    <tr>\n",
       "      <th>4</th>\n",
       "      <td>25%</td>\n",
       "      <td>NaN</td>\n",
       "      <td>1.0</td>\n",
       "      <td>1.0</td>\n",
       "      <td>1.0</td>\n",
       "      <td>1.666667</td>\n",
       "      <td>0.0</td>\n",
       "      <td>6.0</td>\n",
       "    </tr>\n",
       "    <tr>\n",
       "      <th>5</th>\n",
       "      <td>50%</td>\n",
       "      <td>NaN</td>\n",
       "      <td>1.0</td>\n",
       "      <td>1.0</td>\n",
       "      <td>1.0</td>\n",
       "      <td>1.666667</td>\n",
       "      <td>0.0</td>\n",
       "      <td>6.0</td>\n",
       "    </tr>\n",
       "    <tr>\n",
       "      <th>6</th>\n",
       "      <td>75%</td>\n",
       "      <td>NaN</td>\n",
       "      <td>1.0</td>\n",
       "      <td>1.0</td>\n",
       "      <td>1.0</td>\n",
       "      <td>1.666667</td>\n",
       "      <td>0.0</td>\n",
       "      <td>6.0</td>\n",
       "    </tr>\n",
       "    <tr>\n",
       "      <th>7</th>\n",
       "      <td>max</td>\n",
       "      <td>NaN</td>\n",
       "      <td>1.0</td>\n",
       "      <td>1.0</td>\n",
       "      <td>1.0</td>\n",
       "      <td>1.666667</td>\n",
       "      <td>0.0</td>\n",
       "      <td>6.0</td>\n",
       "    </tr>\n",
       "  </tbody>\n",
       "</table>\n",
       "</div>"
      ],
      "text/plain": [
       "   index  auroc  auprc  hit1  hit10  avg_n_true_pos  avg_n_true_neg  n_queries\n",
       "0  count    0.0    1.0   1.0    1.0        1.000000             1.0        1.0\n",
       "1   mean    NaN    1.0   1.0    1.0        1.666667             0.0        6.0\n",
       "2    std    NaN    NaN   NaN    NaN             NaN             NaN        NaN\n",
       "3    min    NaN    1.0   1.0    1.0        1.666667             0.0        6.0\n",
       "4    25%    NaN    1.0   1.0    1.0        1.666667             0.0        6.0\n",
       "5    50%    NaN    1.0   1.0    1.0        1.666667             0.0        6.0\n",
       "6    75%    NaN    1.0   1.0    1.0        1.666667             0.0        6.0\n",
       "7    max    NaN    1.0   1.0    1.0        1.666667             0.0        6.0"
      ]
     },
     "execution_count": 191,
     "metadata": {},
     "output_type": "execute_result"
    }
   ],
   "source": [
    "# weighted summary result of superfamily/fold level homology ranking\n",
    "weighted_results_df = final_results_per_remhomlevel_df.drop(columns=[pos_col]).describe().reset_index()\n",
    "weighted_results_df"
   ]
  },
  {
   "cell_type": "code",
   "execution_count": 192,
   "metadata": {},
   "outputs": [],
   "source": [
    "# saving results\n",
    "final_results_per_queries_df.to_csv(final_results_per_queries_filepath, sep=\"\\t\", index=False, header=True)\n",
    "final_results_per_remhomlevel_df.to_csv(final_results_per_remhom_filepath, sep=\"\\t\", index=False, header=True)\n",
    "weighted_results_df.to_csv(weighted_results_filepath, sep=\"\\t\", index=False, header=True)\n",
    "non_weighted_results_df.to_csv(non_weighted_results_filepath, sep=\"\\t\", index=False, header=True)"
   ]
  },
  {
   "cell_type": "code",
   "execution_count": null,
   "metadata": {},
   "outputs": [],
   "source": []
  }
 ],
 "metadata": {
  "kernelspec": {
   "display_name": "Python 3 (ipykernel)",
   "language": "python",
   "name": "python3"
  },
  "language_info": {
   "codemirror_mode": {
    "name": "ipython",
    "version": 3
   },
   "file_extension": ".py",
   "mimetype": "text/x-python",
   "name": "python",
   "nbconvert_exporter": "python",
   "pygments_lexer": "ipython3",
   "version": "3.9.9"
  }
 },
 "nbformat": 4,
 "nbformat_minor": 4
}
