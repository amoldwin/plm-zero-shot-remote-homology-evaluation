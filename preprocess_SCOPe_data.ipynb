{
 "cells": [
  {
   "cell_type": "code",
   "execution_count": 1,
   "metadata": {},
   "outputs": [],
   "source": [
    "import os\n",
    "import sys\n",
    "home_dir = \"../\"\n",
    "sys.path.append(home_dir)\n",
    "\n",
    "import torch\n",
    "import pandas as pd\n",
    "import numpy as np\n",
    "from Bio import SeqIO"
   ]
  },
  {
   "cell_type": "code",
   "execution_count": 2,
   "metadata": {},
   "outputs": [
    {
     "data": {
      "text/plain": [
       "['astral-scopedom-seqres-gd-sel-gs-bib-10-2.08.fa',\n",
       " 'astral-scopedom-seqres-gd-sel-gs-bib-100-2.08.fa',\n",
       " 'astral-scopedom-seqres-gd-sel-gs-bib-20-2.08.fa',\n",
       " 'astral-scopedom-seqres-gd-sel-gs-bib-25-2.08.fa',\n",
       " 'astral-scopedom-seqres-gd-sel-gs-bib-30-2.08.fa',\n",
       " 'astral-scopedom-seqres-gd-sel-gs-bib-35-2.08.fa',\n",
       " 'astral-scopedom-seqres-gd-sel-gs-bib-40-2.08.fa',\n",
       " 'astral-scopedom-seqres-gd-sel-gs-bib-50-2.08.fa',\n",
       " 'astral-scopedom-seqres-gd-sel-gs-bib-70-2.08.fa',\n",
       " 'astral-scopedom-seqres-gd-sel-gs-bib-90-2.08.fa',\n",
       " 'astral-scopedom-seqres-gd-sel-gs-bib-95-2.08.fa']"
      ]
     },
     "execution_count": 2,
     "metadata": {},
     "output_type": "execute_result"
    }
   ],
   "source": [
    "os.listdir(home_dir+\"data/SCOPe/downloads_at_ths/\")"
   ]
  },
  {
   "cell_type": "code",
   "execution_count": 3,
   "metadata": {},
   "outputs": [],
   "source": [
    "# from ESM1b exclude these: Rossman-like folds (c.2-c.5, c.27 and 28, c.30 and 31) and four- to eight-bladed β-propellers (b.66-b.70) \n",
    "to_exclude = ['c.2','c.3','c.4','c.5','c.27','c.28', 'c.30','c.31','b.66','b.67','b.68','b.69','b.70']"
   ]
  },
  {
   "cell_type": "code",
   "execution_count": 4,
   "metadata": {
    "collapsed": true,
    "jupyter": {
     "outputs_hidden": true
    },
    "tags": []
   },
   "outputs": [
    {
     "name": "stdout",
     "output_type": "stream",
     "text": [
      "th\tn_datapoints\tn_unique_folds\tn_unique_superfamilies\tn_unique_families\n",
      "10\t6784\t1220\t1985\t3999\n",
      "100\t89132\t1231\t1999\t4863\n",
      "20\t7547\t1229\t1995\t4116\n",
      "25\t8617\t1229\t1996\t4197\n",
      "30\t10370\t1229\t1997\t4310\n",
      "35\t12346\t1229\t1997\t4432\n",
      "40\t14280\t1230\t1998\t4521\n",
      "50\t17819\t1230\t1998\t4695\n",
      "70\t23349\t1230\t1998\t4791\n",
      "90\t30045\t1230\t1998\t4817\n",
      "95\t33771\t1230\t1998\t4826\n"
     ]
    }
   ],
   "source": [
    "print(f\"th\\tn_datapoints\\tn_unique_folds\\tn_unique_superfamilies\\tn_unique_families\")\n",
    "apply_filters = True\n",
    "for fn in os.listdir(home_dir+\"data/SCOPe_downloads/\"):\n",
    "    # fn = 'astral-scopedom-seqres-gd-sel-gs-bib-100-2.08.fa'\n",
    "    data = []\n",
    "    th = fn.split('-')[-2]\n",
    "    i=0\n",
    "    for record in SeqIO.parse(home_dir+\"data/SCOPe_downloads/\"+fn, \"fasta\"):\n",
    "        # print(record)\n",
    "        sid = str(record.id).strip()\n",
    "        seq = str(record.seq).strip().upper()\n",
    "\n",
    "        desc = record.description.split()\n",
    "\n",
    "        sccs = desc[1]\n",
    "        sccs_list = sccs.strip().split(\".\")\n",
    "        cls_label, fold, superfamily, family = sccs_list[0], \".\".join(sccs_list[:2]), \".\".join(sccs_list[:3]), \".\".join(sccs_list[:4])\n",
    "        # cls_label, fold, superfamily, family = str(cls_label), str(fold), str(superfamily), str(family)\n",
    "\n",
    "        span = desc[2]\n",
    "\n",
    "        description = \" \".join(desc[3:])\n",
    "\n",
    "        # filters\n",
    "        if apply_filters:\n",
    "            if (sccs.count(\".\")!=3) or (len(span.split(','))!=1) or (\".\".join(sccs.split(\".\")[:2]) in to_exclude): \n",
    "                # if sccs label is not in this format: cls_label.fold.superfamily.family\n",
    "                # if the data point comes from different spans\n",
    "                # if folds are Rossman-like folds (c.2-c.5, c.27 and 28, c.30 and 31) and four- to eight-bladed β-propellers (b.66-b.70); from esm1b and Söding & Remmert, 2011)\n",
    "                i+=1\n",
    "                continue\n",
    "\n",
    "        data_point = dict(sid=sid, span=span, sccs=sccs, cls_label=cls_label, fold=fold, superfamily=superfamily, family=family, seq=seq, description=description)\n",
    "        data.append(data_point)\n",
    "\n",
    "        # if i%1000==0: print(i)\n",
    "\n",
    "        i+=1\n",
    "        # break\n",
    "\n",
    "    data_df = pd.DataFrame.from_dict(data)\n",
    "    data_df['seq_len']=data_df['seq'].apply(len)\n",
    "\n",
    "    data_df.to_csv(home_dir+\"data/SCOPe/processed_at_th/th_\"+str(th)+\".tsv\", sep=\"\\t\", index=False, header=True)\n",
    "\n",
    "    \n",
    "    total = data_df.shape[0]\n",
    "    n_folds = data_df[\"fold\"].unique().shape[0]\n",
    "    n_superfamilies = data_df[\"superfamily\"].unique().shape[0]\n",
    "    n_families = data_df[\"family\"].unique().shape[0]\n",
    "    print(f\"{th}\\t{total}\\t{n_folds}\\t{n_superfamilies}\\t{n_families}\")\n",
    "    # break\n",
    "\n",
    "# print(data_df[\"cls_label\"].unique(), data_df[\"cls_label\"].unique().shape[0])"
   ]
  }
 ],
 "metadata": {
  "kernelspec": {
   "display_name": "Python 3 (ipykernel)",
   "language": "python",
   "name": "python3"
  },
  "language_info": {
   "codemirror_mode": {
    "name": "ipython",
    "version": 3
   },
   "file_extension": ".py",
   "mimetype": "text/x-python",
   "name": "python",
   "nbconvert_exporter": "python",
   "pygments_lexer": "ipython3",
   "version": "3.9.9"
  }
 },
 "nbformat": 4,
 "nbformat_minor": 4
}
